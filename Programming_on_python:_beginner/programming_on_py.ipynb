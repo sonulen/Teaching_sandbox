{
 "cells": [
  {
   "cell_type": "markdown",
   "metadata": {},
   "source": [
    "https://stepik.org/course/67/syllabus"
   ]
  },
  {
   "cell_type": "code",
   "execution_count": 8,
   "metadata": {
    "scrolled": true
   },
   "outputs": [
    {
     "name": "stdout",
     "output_type": "stream",
     "text": [
      "18064773765607550801425251468864907833685590016\n",
      "1.806477376560755e+46\n",
      "2.3333333333333335\n",
      "2\n"
     ]
    }
   ],
   "source": [
    "print(2014 ** 14)\n",
    "print(2014.0**14)\n",
    "print(7/3)\n",
    "print(7//3)"
   ]
  },
  {
   "cell_type": "code",
   "execution_count": 9,
   "metadata": {
    "scrolled": false
   },
   "outputs": [
    {
     "data": {
      "text/plain": [
       "-1"
      ]
     },
     "execution_count": 9,
     "metadata": {},
     "output_type": "execute_result"
    }
   ],
   "source": [
    "int(-1.6)"
   ]
  },
  {
   "cell_type": "markdown",
   "metadata": {},
   "source": [
    "Лол кек наглядный пример того как теряется точность с плавающей запятой и большими/малыми числами:"
   ]
  },
  {
   "cell_type": "code",
   "execution_count": 10,
   "metadata": {},
   "outputs": [
    {
     "data": {
      "text/plain": [
       "89"
      ]
     },
     "execution_count": 10,
     "metadata": {},
     "output_type": "execute_result"
    }
   ],
   "source": [
    "9**19 - int(float(9**19))"
   ]
  },
  {
   "cell_type": "code",
   "execution_count": 11,
   "metadata": {},
   "outputs": [
    {
     "data": {
      "text/plain": [
       "1.350851717672992e+18"
      ]
     },
     "execution_count": 11,
     "metadata": {},
     "output_type": "execute_result"
    }
   ],
   "source": [
    "float(9**19)"
   ]
  },
  {
   "cell_type": "code",
   "execution_count": 12,
   "metadata": {},
   "outputs": [
    {
     "data": {
      "text/plain": [
       "1350851717672992000"
      ]
     },
     "execution_count": 12,
     "metadata": {},
     "output_type": "execute_result"
    }
   ],
   "source": [
    "int(float(9**19))"
   ]
  },
  {
   "cell_type": "code",
   "execution_count": 13,
   "metadata": {},
   "outputs": [
    {
     "data": {
      "text/plain": [
       "1350851717672992089"
      ]
     },
     "execution_count": 13,
     "metadata": {},
     "output_type": "execute_result"
    }
   ],
   "source": [
    "9**19"
   ]
  },
  {
   "cell_type": "code",
   "execution_count": 14,
   "metadata": {},
   "outputs": [],
   "source": [
    "x = 9 > 0"
   ]
  },
  {
   "cell_type": "code",
   "execution_count": 15,
   "metadata": {},
   "outputs": [
    {
     "data": {
      "text/plain": [
       "True"
      ]
     },
     "execution_count": 15,
     "metadata": {},
     "output_type": "execute_result"
    }
   ],
   "source": [
    "x"
   ]
  },
  {
   "cell_type": "code",
   "execution_count": 16,
   "metadata": {},
   "outputs": [
    {
     "name": "stdout",
     "output_type": "stream",
     "text": [
      "7\n"
     ]
    }
   ],
   "source": [
    "a = 2\n",
    "b = a + 3\n",
    "print (a+b)"
   ]
  },
  {
   "cell_type": "code",
   "execution_count": 17,
   "metadata": {},
   "outputs": [
    {
     "name": "stdout",
     "output_type": "stream",
     "text": [
      "7\n"
     ]
    }
   ],
   "source": [
    "print (a+b)"
   ]
  },
  {
   "cell_type": "code",
   "execution_count": 22,
   "metadata": {},
   "outputs": [
    {
     "name": "stdout",
     "output_type": "stream",
     "text": [
      "345\n",
      "s is = 345\n"
     ]
    }
   ],
   "source": [
    "s = input()\n",
    "print (\"s is =\",s)"
   ]
  },
  {
   "cell_type": "code",
   "execution_count": 23,
   "metadata": {},
   "outputs": [
    {
     "data": {
      "text/plain": [
       "str"
      ]
     },
     "execution_count": 23,
     "metadata": {},
     "output_type": "execute_result"
    }
   ],
   "source": [
    "type(s)"
   ]
  },
  {
   "cell_type": "code",
   "execution_count": 24,
   "metadata": {},
   "outputs": [
    {
     "data": {
      "text/plain": [
       "346"
      ]
     },
     "execution_count": 24,
     "metadata": {},
     "output_type": "execute_result"
    }
   ],
   "source": [
    "int(s) + 1"
   ]
  },
  {
   "cell_type": "code",
   "execution_count": 26,
   "metadata": {},
   "outputs": [
    {
     "name": "stdout",
     "output_type": "stream",
     "text": [
      "480\n",
      "1\n",
      "2\n",
      "2\n",
      "9\n",
      "2\n"
     ]
    }
   ],
   "source": [
    "x = int(input())\n",
    "h = int(input())\n",
    "m = int(input())\n",
    "h += x//60\n",
    "newm = m+(x%60)\n",
    "print(newm)\n",
    "h += newm//60\n",
    "m = newm%60\n",
    "print (h)\n",
    "print (m)"
   ]
  },
  {
   "cell_type": "code",
   "execution_count": 30,
   "metadata": {},
   "outputs": [
    {
     "name": "stdout",
     "output_type": "stream",
     "text": [
      "True\n"
     ]
    }
   ],
   "source": [
    "x = False\n",
    "print (not x)"
   ]
  },
  {
   "cell_type": "code",
   "execution_count": 34,
   "metadata": {},
   "outputs": [
    {
     "name": "stdout",
     "output_type": "stream",
     "text": [
      "TRUE\n"
     ]
    }
   ],
   "source": [
    "if (True):\n",
    "    print('TRUE')\n",
    "else:  \n",
    "    print('False')"
   ]
  },
  {
   "cell_type": "code",
   "execution_count": 35,
   "metadata": {},
   "outputs": [
    {
     "name": "stdout",
     "output_type": "stream",
     "text": [
      "2.0\n"
     ]
    }
   ],
   "source": [
    "x = 2\n",
    "y = 4\n",
    "print(y/x)"
   ]
  },
  {
   "cell_type": "code",
   "execution_count": 3,
   "metadata": {},
   "outputs": [
    {
     "name": "stdout",
     "output_type": "stream",
     "text": [
      "1\n",
      "9\n",
      "10\n",
      "Пересып\n"
     ]
    }
   ],
   "source": [
    "A = int(input())\n",
    "B = int(input())\n",
    "H = int(input())\n",
    "\n",
    "if (A <= H <= B):\n",
    "    print(\"Это нормально\")\n",
    "elif (H < A):\n",
    "    print(\"Недосып\")\n",
    "else:\n",
    "    print(\"Пересып\")\n"
   ]
  },
  {
   "cell_type": "code",
   "execution_count": 15,
   "metadata": {},
   "outputs": [
    {
     "name": "stdout",
     "output_type": "stream",
     "text": [
      "2004\n",
      "Високосный\n"
     ]
    }
   ],
   "source": [
    "year = int(input())\n",
    "\n",
    "if (year%4 ==0 and year%100!=0 or year%400==0):\n",
    "    print(\"Високосный\")\n",
    "else:\n",
    "    print(\"Обычный\")"
   ]
  },
  {
   "cell_type": "code",
   "execution_count": 3,
   "metadata": {},
   "outputs": [
    {
     "name": "stdout",
     "output_type": "stream",
     "text": [
      "string#a string#b\n",
      "string#astring#b\n",
      "False\n",
      "string#a string#b\n"
     ]
    }
   ],
   "source": [
    "a = \"string#a\"\n",
    "b = \"string#b\"\n",
    "# Однострочный коммент\n",
    "print(a,b)\n",
    "'''\n",
    "Многострочный\n",
    "'''\n",
    "print(a+b)\n",
    "print(a>b)\n",
    "print(a + \" \" + b)"
   ]
  },
  {
   "cell_type": "code",
   "execution_count": 2,
   "metadata": {},
   "outputs": [
    {
     "name": "stdout",
     "output_type": "stream",
     "text": [
      "3\n",
      "4\n",
      "5\n",
      "6.0\n"
     ]
    }
   ],
   "source": [
    "a = int(input())\n",
    "b = int(input())\n",
    "c = int(input())\n",
    "p = (a + b + c)/2\n",
    "result = (p*(p-a)*(p-b)*(p-c))**0.5\n",
    "print (result)"
   ]
  },
  {
   "cell_type": "code",
   "execution_count": 5,
   "metadata": {},
   "outputs": [
    {
     "name": "stdout",
     "output_type": "stream",
     "text": [
      "16\n",
      "True\n"
     ]
    }
   ],
   "source": [
    "num = int(input())\n",
    "a = (-15 < num <= 12)\n",
    "b = (14 < num < 17)\n",
    "c = (19 <= num)\n",
    "if (a or b or c):\n",
    "    print(True)\n",
    "else:\n",
    "    print(False)"
   ]
  },
  {
   "cell_type": "code",
   "execution_count": 8,
   "metadata": {},
   "outputs": [
    {
     "name": "stdout",
     "output_type": "stream",
     "text": [
      "3\n",
      "4\n",
      "*\n",
      "12\n"
     ]
    }
   ],
   "source": [
    "a = int(input())\n",
    "b = int(input())\n",
    "operation = input()\n",
    "# Поддерживаемые операции: +, -, /, *, mod, pow, div\n",
    "if operation==\"+\":\n",
    "    print(a+b)\n",
    "elif operation==\"-\":\n",
    "    print(a-b)\n",
    "elif operation==\"/\":\n",
    "    if (b == 0):\n",
    "        print(\"Деление на 0!\")\n",
    "    else:\n",
    "        print(a/b)\n",
    "elif operation==\"*\":\n",
    "    print(a*b)\n",
    "elif operation==\"mod\":\n",
    "    if (b == 0):\n",
    "        print(\"Деление на 0!\")\n",
    "    else:\n",
    "        print(a%b)\n",
    "elif operation==\"pow\":\n",
    "    print(a**b)\n",
    "elif operation==\"div\":\n",
    "    if (b == 0):\n",
    "        print(\"Деление на 0!\")\n",
    "    else:\n",
    "        print(a//b) "
   ]
  },
  {
   "cell_type": "code",
   "execution_count": 12,
   "metadata": {},
   "outputs": [
    {
     "name": "stdout",
     "output_type": "stream",
     "text": [
      "треугольник\n",
      "2\n",
      "5\n",
      "7\n",
      "0.0\n"
     ]
    }
   ],
   "source": [
    "type = input()\n",
    "\n",
    "if type==\"треугольник\":\n",
    "    a = int(input())\n",
    "    b = int(input())\n",
    "    c = int(input())\n",
    "    p = (a + b + c)/2\n",
    "    result = (p*(p-a)*(p-b)*(p-c))**0.5\n",
    "elif type==\"прямоугольник\":\n",
    "    a = int(input())\n",
    "    b = int(input())\n",
    "    result = a*b\n",
    "elif type==\"круг\":\n",
    "    r = int(input())\n",
    "    result = 3.14 * r\n",
    "\n",
    "print (result)\n",
    "    "
   ]
  },
  {
   "cell_type": "code",
   "execution_count": 1,
   "metadata": {},
   "outputs": [
    {
     "name": "stdout",
     "output_type": "stream",
     "text": [
      "1\n",
      "2\n",
      "3\n",
      "3\n",
      "1\n",
      "2\n"
     ]
    }
   ],
   "source": [
    "a = int(input())\n",
    "b = int(input())\n",
    "c = int(input())\n",
    "\n",
    "sortlist = [a,b,c]\n",
    "sortlist.sort()\n",
    "\n",
    "print(sortlist[2])\n",
    "print(sortlist[0])\n",
    "print(sortlist[1])"
   ]
  },
  {
   "cell_type": "code",
   "execution_count": 2,
   "metadata": {},
   "outputs": [
    {
     "name": "stdout",
     "output_type": "stream",
     "text": [
      "113\n",
      "113 программистов\n"
     ]
    }
   ],
   "source": [
    "# put your python code here\n",
    "n = int(input())\n",
    "\n",
    "if n%10==0 or n%10>=5 or 11 <= n%100 <= 14:\n",
    "    print(n, \"программистов\")\n",
    "elif n%10==1:\n",
    "    print(n, \"программист\")\n",
    "else:\n",
    "    print(n, \"программиста\")"
   ]
  },
  {
   "cell_type": "code",
   "execution_count": 3,
   "metadata": {},
   "outputs": [
    {
     "name": "stdout",
     "output_type": "stream",
     "text": [
      "123456\n",
      "15 6\n"
     ]
    }
   ],
   "source": [
    "# put your python code here\n",
    "x = int(input())\n",
    "y=0;\n",
    "z=0;\n",
    "for i in [0,1,2]:\n",
    "    y += x%10\n",
    "    x = x//10\n",
    "    \n",
    "for i in [0,1,2]:\n",
    "    z += x%10\n",
    "    x = x//10\n",
    "\n",
    "print(y,z)"
   ]
  },
  {
   "cell_type": "code",
   "execution_count": 4,
   "metadata": {},
   "outputs": [
    {
     "name": "stdout",
     "output_type": "stream",
     "text": [
      "5\n",
      "4\n",
      "3\n",
      "2\n",
      "1\n",
      "5 4 3 2 1 5 space\n",
      "4 space\n",
      "3 space\n",
      "2 space\n",
      "1 space\n"
     ]
    }
   ],
   "source": [
    "a = 5\n",
    "\n",
    "while a>0:\n",
    "    print(a)\n",
    "    a -= 1\n",
    "    \n",
    "a = 5\n",
    "while a>0:\n",
    "    print(a,end=\" \")\n",
    "    a -= 1\n",
    "\n",
    "a = 5\n",
    "wat = \"space\"\n",
    "while a>0:\n",
    "    print(a,wat)\n",
    "    a -= 1"
   ]
  },
  {
   "cell_type": "code",
   "execution_count": 1,
   "metadata": {},
   "outputs": [
    {
     "name": "stdout",
     "output_type": "stream",
     "text": [
      "Введите кол-во желаемых выражений: 3\n",
      "Число выражений: 3\n",
      "Введите два числа через пробел: 1 2\n",
      "2\n",
      "Засчитано, осталось выражений:  2\n",
      "Введите два числа через пробел: 1 0\n",
      "Игнорирую\n",
      "Введите два числа через пробел: 1 2\n",
      "2\n",
      "Засчитано, осталось выражений:  1\n",
      "Введите два числа через пробел: 2 3\n",
      "6\n",
      "Засчитано, осталось выражений:  0\n",
      "Кол-во выражений исчерпано\n"
     ]
    }
   ],
   "source": [
    "i = 0\n",
    "numb = int(input('Введите кол-во желаемых выражений: '))\n",
    "print('Число выражений:', numb)\n",
    "while i < numb:\n",
    "    a, b = input('Введите два числа через пробел: ').split()\n",
    "    a = int(a)\n",
    "    b = int(b)\n",
    "    if (a == 0) and (b == 0):\n",
    "        print('Окончание работы. ')\n",
    "        break\n",
    "    if (a == 0) or (b == 0):\n",
    "        print('Игнорирую')\n",
    "        continue\n",
    "    print(a * b)\n",
    "    print('Засчитано, ', end='')\n",
    "    i += 1\n",
    "    print('осталось выражений: ', numb - i)\n",
    "else:\n",
    "    print('Кол-во выражений исчерпано')"
   ]
  },
  {
   "cell_type": "code",
   "execution_count": 2,
   "metadata": {},
   "outputs": [
    {
     "name": "stdout",
     "output_type": "stream",
     "text": [
      "1\n",
      "11\n",
      "11\n",
      "32\n",
      "32\n",
      "101\n"
     ]
    }
   ],
   "source": [
    "while 1:\n",
    "    num = int(input())\n",
    "    if (10 <= num <= 100):\n",
    "        print(num)\n",
    "    elif num > 100:\n",
    "        break"
   ]
  },
  {
   "cell_type": "code",
   "execution_count": 9,
   "metadata": {},
   "outputs": [
    {
     "name": "stdout",
     "output_type": "stream",
     "text": [
      "1\n",
      "4\n",
      "5\n",
      "7\n",
      "\t5\t6\t7\t\n",
      "1\t5\t6\t7\t\n",
      "2\t10\t12\t14\t\n",
      "3\t15\t18\t21\t\n",
      "4\t20\t24\t28\t\n"
     ]
    }
   ],
   "source": [
    "a = int(input())\n",
    "b = int(input())\n",
    "c = int(input())\n",
    "d = int(input())\n",
    "\n",
    "print (\"\", end=\"\\t\")\n",
    "for i in range (c, d+1):\n",
    "    print (i, end=\"\\t\")\n",
    "print ()\n",
    "\n",
    "for i in range(a, b+1):\n",
    "    print(i, end=\"\\t\")\n",
    "    for j in range (c, d+1):\n",
    "        print (i*j,end=\"\\t\")\n",
    "    print()"
   ]
  },
  {
   "cell_type": "code",
   "execution_count": 13,
   "metadata": {},
   "outputs": [
    {
     "name": "stdout",
     "output_type": "stream",
     "text": [
      "3 4\n"
     ]
    }
   ],
   "source": [
    "a, b = (int(i) for i in input().split())"
   ]
  },
  {
   "cell_type": "code",
   "execution_count": 19,
   "metadata": {},
   "outputs": [
    {
     "name": "stdout",
     "output_type": "stream",
     "text": [
      "3 9\n",
      "6.0\n"
     ]
    }
   ],
   "source": [
    "a, b = (int(i) for i in input().split())\n",
    "sum = 0\n",
    "n = 0\n",
    "\n",
    "for i in range(a,b+1):\n",
    "    if (i%3 == 0):\n",
    "        sum += i\n",
    "        n+=1;\n",
    "print(sum/n)"
   ]
  },
  {
   "cell_type": "code",
   "execution_count": 2,
   "metadata": {},
   "outputs": [
    {
     "name": "stdout",
     "output_type": "stream",
     "text": [
      "GgCc\n",
      "50.0\n",
      "50.0\n"
     ]
    }
   ],
   "source": [
    "str1 = input().lower()\n",
    "G_c = str1.count(\"g\") / len(str1) * 100\n",
    "C_c = str1.count('c') / len(str1) * 100\n",
    "print(G_c + C_c)"
   ]
  },
  {
   "cell_type": "code",
   "execution_count": 1,
   "metadata": {},
   "outputs": [
    {
     "name": "stdout",
     "output_type": "stream",
     "text": [
      "qqwwertty\n",
      "q2w2e1r1t2y1\n"
     ]
    }
   ],
   "source": [
    "string = input()\n",
    "\n",
    "result_string = \"\"\n",
    "s_char = string[0]\n",
    "pos = 1\n",
    "for i in string[1:]:\n",
    "    if i == s_char:\n",
    "       pos += 1\n",
    "    else:\n",
    "        result_string += s_char + str(pos)\n",
    "        pos = 1\n",
    "        s_char = i\n",
    "        \n",
    "result_string += s_char + str(pos)\n",
    "print(result_string)\n",
    "    "
   ]
  },
  {
   "cell_type": "markdown",
   "metadata": {},
   "source": [
    "Сколько элементов будет содержать список students после следующих операций?\n",
    "\n",
    "students = ['Ivan', 'Masha', 'Sasha']\n",
    "students += ['Olga']\n",
    "students += 'Olga'\n",
    "\n",
    "Введите в поле ответа одно число.\n",
    "Подумайте, почему так происходит.\n",
    "Ответ: 8. т.к. \"Olga\" это строка"
   ]
  },
  {
   "cell_type": "markdown",
   "metadata": {},
   "source": [
    "slice надо подсказку сделать\n"
   ]
  },
  {
   "cell_type": "code",
   "execution_count": 13,
   "metadata": {
    "scrolled": true
   },
   "outputs": [
    {
     "name": "stdout",
     "output_type": "stream",
     "text": [
      "1 2 3 4\n",
      "10\n"
     ]
    }
   ],
   "source": [
    "a = [int(s) for s in input().split()]\n",
    "sum = 0\n",
    "for i in a:\n",
    "    sum += i\n",
    "print(sum)"
   ]
  },
  {
   "cell_type": "code",
   "execution_count": 2,
   "metadata": {},
   "outputs": [
    {
     "name": "stdout",
     "output_type": "stream",
     "text": [
      "1 2 3 4\n",
      "10\n"
     ]
    }
   ],
   "source": [
    "print (sum ([int(s) for s in input().split()]))"
   ]
  },
  {
   "cell_type": "markdown",
   "metadata": {},
   "source": [
    "Напишите программу, на вход которой подаётся список чисел одной строкой. Программа должна для каждого элемента этого списка вывести сумму двух его соседей. Для элементов списка, являющихся крайними, одним из соседей считается элемент, находящий на противоположном конце этого списка. Например, если на вход подаётся список \"1 3 5 6 10\", то на выход ожидается список \"13 6 9 15 7\" (без кавычек).\n",
    "\n",
    "Если на вход пришло только одно число, надо вывести его же.\n",
    "\n",
    "Вывод должен содержать одну строку с числами нового списка, разделёнными пробелом."
   ]
  },
  {
   "cell_type": "code",
   "execution_count": 27,
   "metadata": {},
   "outputs": [
    {
     "name": "stdout",
     "output_type": "stream",
     "text": [
      "1 3 4\n",
      "7 5 4 "
     ]
    }
   ],
   "source": [
    "a = [int(s) for s in input().split()]\n",
    "if not len(a) == 1:\n",
    "    a.insert(0,a[len(a)-1])\n",
    "    a.append(a[1])\n",
    "    result = [i for i in a]\n",
    "    index = 1\n",
    "    for i in a[1:-1:1]:\n",
    "        print (a[index-1]+a[index+1], end=\" \")\n",
    "        index+=1\n",
    "else:\n",
    "    print(a[0])"
   ]
  },
  {
   "cell_type": "code",
   "execution_count": 24,
   "metadata": {},
   "outputs": [
    {
     "name": "stdout",
     "output_type": "stream",
     "text": [
      "1 2 3\n",
      "5 4 3 "
     ]
    }
   ],
   "source": [
    "a = [int(i) for i in input().split()]\n",
    "b = len(a)\n",
    "if not b == 1:\n",
    "    for i in range(len(a)):\n",
    "        print(a[(i+1)%b]  + a[i-1],end=\" \")\n",
    "else:\n",
    "    print(a[0])"
   ]
  },
  {
   "cell_type": "markdown",
   "metadata": {},
   "source": [
    "Напишите программу, которая принимает на вход список чисел в одной строке и выводит на экран в одну строку значения, которые повторяются в нём более одного раза.\n",
    "\n",
    "Для решения задачи может пригодиться метод sort списка.\n",
    "\n",
    "Выводимые числа не должны повторяться, порядок их вывода может быть произвольным."
   ]
  },
  {
   "cell_type": "code",
   "execution_count": 20,
   "metadata": {},
   "outputs": [
    {
     "name": "stdout",
     "output_type": "stream",
     "text": [
      "1 2 2 3 \n",
      "2 "
     ]
    }
   ],
   "source": [
    "a = [int(i) for i in input().split()]\n",
    "a.sort()\n",
    "count = 0\n",
    "for i in a:\n",
    "    if count == 0 or equal != i:\n",
    "        equal = i\n",
    "        count = 1\n",
    "    elif equal == i:\n",
    "        count = count + 1\n",
    "    if count == 2:\n",
    "        print(i, end=\" \")"
   ]
  },
  {
   "cell_type": "code",
   "execution_count": 22,
   "metadata": {},
   "outputs": [
    {
     "name": "stdout",
     "output_type": "stream",
     "text": [
      "2 1 1 2\n",
      "1 2 "
     ]
    }
   ],
   "source": [
    "ls = [int(i) for i in input().split()]\n",
    "for i in set(ls):\n",
    "    if ls.count(i) > 1:\n",
    "        print(i, end=' ')"
   ]
  },
  {
   "cell_type": "markdown",
   "metadata": {},
   "source": [
    "Напишите программу, которая считывает с консоли числа (по одному в строке) до тех пор, пока сумма введённых чисел не будет равна 0 и сразу после этого выводит сумму квадратов всех считанных чисел.\n",
    "\n",
    "Гарантируется, что в какой-то момент сумма введённых чисел окажется равной 0, после этого считывание продолжать не нужно.\n",
    "\n",
    "В примере мы считываем числа 1, -3, 5, -6, -10, 13; в этот момент замечаем, что сумма этих чисел равна нулю и выводим сумму их квадратов, не обращая внимания на то, что остались ещё не прочитанные значения.﻿"
   ]
  },
  {
   "cell_type": "code",
   "execution_count": 3,
   "metadata": {},
   "outputs": [
    {
     "name": "stdout",
     "output_type": "stream",
     "text": [
      "1\n",
      "2\n",
      "3\n",
      "-6\n",
      "50\n"
     ]
    }
   ],
   "source": [
    "pows = 0\n",
    "sum = 0\n",
    "while 1:\n",
    "    a = int(input())\n",
    "    pows += pow(a,2)\n",
    "    sum += a\n",
    "    if sum==0:\n",
    "        break\n",
    "        \n",
    "print(pows)"
   ]
  },
  {
   "cell_type": "markdown",
   "metadata": {},
   "source": [
    "Напишите программу, которая выводит часть последовательности 1 2 2 3 3 3 4 4 4 4 5 5 5 5 5 ... (число повторяется столько раз, чему равно). На вход программе передаётся неотрицательное целое число n — столько элементов последовательности должна отобразить программа. На выходе ожидается последовательность чисел, записанных через пробел в одну строку.\n",
    "\n",
    "Например, если n = 7, то программа должна вывести 1 2 2 3 3 3 4."
   ]
  },
  {
   "cell_type": "code",
   "execution_count": 14,
   "metadata": {},
   "outputs": [
    {
     "name": "stdout",
     "output_type": "stream",
     "text": [
      "6\n",
      "1 2 2 3 3 3 "
     ]
    }
   ],
   "source": [
    "n = int(input())\n",
    "count = 0\n",
    "for i in range(1, n+1):\n",
    "    for j in range(i):\n",
    "        print(i, end=\" \")\n",
    "        count += 1\n",
    "        if (count == n):\n",
    "            break\n",
    "    \n",
    "    if (count == n):\n",
    "        break"
   ]
  },
  {
   "cell_type": "code",
   "execution_count": 15,
   "metadata": {},
   "outputs": [
    {
     "name": "stdout",
     "output_type": "stream",
     "text": [
      "6\n",
      "1 2 2 3 3 3\n"
     ]
    }
   ],
   "source": [
    "n = int(input())\n",
    "a = []\n",
    "i = 0\n",
    "while len(a) < n:\n",
    "    a += [i] * i\n",
    "    i += 1\n",
    "print(*a[:n])"
   ]
  },
  {
   "cell_type": "markdown",
   "metadata": {},
   "source": [
    "Напишите программу, которая считывает список чисел lst из первой строки и число x из второй строки, которая выводит все позиции, на которых встречается число x в переданном списке lst.\n",
    "\n",
    "Позиции нумеруются с нуля, если число x не встречается в списке, вывести строку \"Отсутствует\" (без кавычек, с большой буквы).\n",
    "\n",
    "Позиции должны быть выведены в одну строку, по возрастанию абсолютного значения."
   ]
  },
  {
   "cell_type": "code",
   "execution_count": 22,
   "metadata": {},
   "outputs": [
    {
     "name": "stdout",
     "output_type": "stream",
     "text": [
      "1 2 3 2 2\n",
      "2\n",
      "1\n",
      "3\n",
      "4\n"
     ]
    }
   ],
   "source": [
    "a = [int(i) for i in input().split()]\n",
    "n = int(input())\n",
    "if n in a:\n",
    "    for i in range(len(a)):\n",
    "        if a[i] == n:\n",
    "            print(i)\n",
    "else:\n",
    "    print(\"Отсутствует\")"
   ]
  },
  {
   "cell_type": "markdown",
   "metadata": {},
   "source": [
    "Напишите программу, на вход которой подаётся прямоугольная матрица в виде последовательности строк, заканчивающихся строкой, содержащей только строку \"end\" (без кавычек)\n",
    "\n",
    "Программа должна вывести матрицу того же размера, у которой каждый элемент в позиции i, j равен сумме элементов первой матрицы на позициях (i-1, j), (i+1, j), (i, j-1), (i, j+1). У крайних символов соседний элемент находится с противоположной стороны матрицы.\n",
    "\n",
    "В случае одной строки/столбца элемент сам себе является соседом по соответствующему направлению."
   ]
  },
  {
   "cell_type": "code",
   "execution_count": 35,
   "metadata": {},
   "outputs": [
    {
     "name": "stdout",
     "output_type": "stream",
     "text": [
      "1 2 3\n",
      "1 2 3\n",
      "1 2 3\n",
      "end\n",
      "7 8 9\n",
      "7 8 9\n",
      "7 8 9\n"
     ]
    }
   ],
   "source": [
    "matrix = []\n",
    "i = 0\n",
    "while 1:\n",
    "    x = input()\n",
    "    if x == \"end\":\n",
    "        break\n",
    "    matrix.insert(i,[int(i) for i in x.split()])\n",
    "    i += 1\n",
    "\n",
    "result = [row[:] for row in matrix]\n",
    "\n",
    "for i in range(len(matrix)):\n",
    "    for j in range(len(matrix[0])):\n",
    "        next_i = (i+1) % len(matrix)\n",
    "        next_j = (j+1) % len(matrix[0])\n",
    "        result[i][j] = matrix[i-1][j] + matrix[next_i][j] + matrix[i][j-1] + matrix[i][next_j]\n",
    "        \n",
    "for i in result:\n",
    "    print(*i[:])"
   ]
  },
  {
   "cell_type": "markdown",
   "metadata": {},
   "source": [
    "Выведите таблицу размером n×n, заполненную числами от 1 до n2 по спирали, выходящей из левого верхнего угла и закрученной по часовой стрелке, как показано в примере (здесь n=5):"
   ]
  },
  {
   "cell_type": "code",
   "execution_count": 10,
   "metadata": {},
   "outputs": [
    {
     "name": "stdout",
     "output_type": "stream",
     "text": [
      "5\n",
      "1   2   3   4   5   \n",
      "16  17  18  19  6   \n",
      "15  24  25  20  7   \n",
      "14  23  22  21  8   \n",
      "13  12  11  10  9   \n"
     ]
    }
   ],
   "source": [
    "nums = int(input())\n",
    "\n",
    "matrix = [[0] * nums for i in range(nums)]\n",
    "\n",
    "center = nums//2 + nums%2\n",
    "number = 1\n",
    "for coil in range(center):\n",
    "    for j in range(coil,nums-coil,1):\n",
    "        matrix[coil][j] = number\n",
    "        number+=1\n",
    "    for i in range (coil+1, nums-coil, 1):\n",
    "        matrix[i][nums-coil-1] = number\n",
    "        number+=1\n",
    "    for j in range(nums-coil-2,coil-1,-1):\n",
    "        i = nums-coil-1\n",
    "        matrix[i][j] = number\n",
    "        number+=1\n",
    "    for i in range(nums-1-coil-1,coil,-1):\n",
    "        j = coil\n",
    "        matrix[i][j] = number\n",
    "        number+=1\n",
    "    \n",
    "\n",
    "\n",
    "for i in matrix:\n",
    "    for j in i:\n",
    "        print ('%-3d' % (j),end=\" \")\n",
    "    print()\n",
    "    "
   ]
  },
  {
   "cell_type": "code",
   "execution_count": 9,
   "metadata": {},
   "outputs": [
    {
     "name": "stdout",
     "output_type": "stream",
     "text": [
      "5\n",
      "1 2 3 4 5\n",
      "16 17 18 19 6\n",
      "15 24 25 20 7\n",
      "14 23 22 21 8\n",
      "13 12 11 10 9\n"
     ]
    }
   ],
   "source": [
    "n = int(input())\n",
    "x,y,dx,dy, m = 0,0,0,1, [[0]*n for i in range(n)]\n",
    "for i in range(n*n):\n",
    "  m[x][y]=str(i+1)\n",
    "  if x+dx>=n or x+dx<0 or y+dy>=n or y+dy<0 or m[x+dx][y+dy]:\n",
    "      dx,dy = dy,-dx\n",
    "  x,y = x+dx, y+dy\n",
    "print(\"\\n\".join([\" \".join(i) for i in m]))"
   ]
  },
  {
   "cell_type": "markdown",
   "metadata": {},
   "source": [
    "Неделя 3."
   ]
  },
  {
   "cell_type": "code",
   "execution_count": 2,
   "metadata": {},
   "outputs": [
    {
     "name": "stdout",
     "output_type": "stream",
     "text": [
      "10555\n"
     ]
    }
   ],
   "source": [
    "def f(n):\n",
    "    return n * 10 + 5\n",
    "\n",
    "print(f(f(f(10))))"
   ]
  },
  {
   "cell_type": "code",
   "execution_count": 3,
   "metadata": {},
   "outputs": [
    {
     "name": "stdout",
     "output_type": "stream",
     "text": [
      "[2, 2, 3]\n"
     ]
    }
   ],
   "source": [
    "def change_list(a):\n",
    "    a[0] = 2\n",
    "    \n",
    "list = [1,2,3]\n",
    "change_list(list)\n",
    "print(list)"
   ]
  },
  {
   "cell_type": "code",
   "execution_count": 6,
   "metadata": {},
   "outputs": [
    {
     "name": "stdout",
     "output_type": "stream",
     "text": [
      "1\n",
      "2\n",
      "1 2 "
     ]
    }
   ],
   "source": [
    "def myprint(*a,end=\"\\n\"):\n",
    "    for value in a:\n",
    "        print(value,end=end)\n",
    "\n",
    "myprint(1,2)\n",
    "myprint(1,2,end=\" \")"
   ]
  },
  {
   "cell_type": "markdown",
   "metadata": {},
   "source": [
    "https://stepik.org/lesson/3372/step/8?unit=955"
   ]
  },
  {
   "cell_type": "code",
   "execution_count": 10,
   "metadata": {},
   "outputs": [
    {
     "name": "stdout",
     "output_type": "stream",
     "text": [
      "0.0\n",
      "7.25\n",
      "-5.25\n",
      "-0.5\n"
     ]
    }
   ],
   "source": [
    "def f(x):\n",
    "    if x <= -2:\n",
    "        return (1-((x+2)**2))\n",
    "    elif x <= 2:\n",
    "        return -x/2\n",
    "    else:\n",
    "        return (x-2)**2 + 1\n",
    "    \n",
    "print (f(0))\n",
    "print (f(4.5))\n",
    "print (f(-4.5))\n",
    "print (f(1))"
   ]
  },
  {
   "cell_type": "markdown",
   "metadata": {},
   "source": [
    "Напишите функцию modify_list(l), которая принимает на вход список целых чисел, удаляет из него все нечётные значения, а чётные нацело делит на два. Функция не должна ничего возвращать, требуется только изменение переданного списка"
   ]
  },
  {
   "cell_type": "code",
   "execution_count": 24,
   "metadata": {},
   "outputs": [
    {
     "name": "stdout",
     "output_type": "stream",
     "text": [
      "None\n",
      "[1, 2, 3]\n",
      "[1]\n",
      "[5, 4]\n"
     ]
    }
   ],
   "source": [
    "def modify_list(list):\n",
    "    new_list = []\n",
    "    for x in list:\n",
    "        if x%2 == 0:\n",
    "            new_list.append(x//2)\n",
    "    # Почему list = new_list не сработало?\n",
    "    # Вот так понятно дело работает:\n",
    "#     list.clear()\n",
    "#     list.extend(new_list)\n",
    "    # А так не понятно почему работает?\n",
    "    list[:] = new_list\n",
    "    \n",
    "lst = [1, 2, 3, 4, 5, 6]\n",
    "print(modify_list(lst))  # None\n",
    "print(lst)               # [1, 2, 3]\n",
    "modify_list(lst)\n",
    "print(lst)               # [1]\n",
    "\n",
    "lst = [10, 5, 8, 3]\n",
    "modify_list(lst)\n",
    "print(lst)"
   ]
  },
  {
   "cell_type": "code",
   "execution_count": null,
   "metadata": {},
   "outputs": [],
   "source": [
    "# Решение типа\n",
    "def modify_list(l):\n",
    "    l[:] = [i//2 for i in l if not i % 2]"
   ]
  }
 ],
 "metadata": {
  "kernelspec": {
   "display_name": "Python 3",
   "language": "python",
   "name": "python3"
  },
  "language_info": {
   "codemirror_mode": {
    "name": "ipython",
    "version": 3
   },
   "file_extension": ".py",
   "mimetype": "text/x-python",
   "name": "python",
   "nbconvert_exporter": "python",
   "pygments_lexer": "ipython3",
   "version": "3.7.1"
  }
 },
 "nbformat": 4,
 "nbformat_minor": 2
}
