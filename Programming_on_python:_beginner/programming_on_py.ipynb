{
 "cells": [
  {
   "cell_type": "markdown",
   "metadata": {},
   "source": [
    "https://stepik.org/course/67/syllabus"
   ]
  },
  {
   "cell_type": "code",
   "execution_count": 8,
   "metadata": {
    "scrolled": true
   },
   "outputs": [
    {
     "name": "stdout",
     "output_type": "stream",
     "text": [
      "18064773765607550801425251468864907833685590016\n",
      "1.806477376560755e+46\n",
      "2.3333333333333335\n",
      "2\n"
     ]
    }
   ],
   "source": [
    "print(2014 ** 14)\n",
    "print(2014.0**14)\n",
    "print(7/3)\n",
    "print(7//3)"
   ]
  },
  {
   "cell_type": "code",
   "execution_count": 9,
   "metadata": {
    "scrolled": false
   },
   "outputs": [
    {
     "data": {
      "text/plain": [
       "-1"
      ]
     },
     "execution_count": 9,
     "metadata": {},
     "output_type": "execute_result"
    }
   ],
   "source": [
    "int(-1.6)"
   ]
  },
  {
   "cell_type": "markdown",
   "metadata": {},
   "source": [
    "Лол кек наглядный пример того как теряется точность с плавающей запятой и большими/малыми числами:"
   ]
  },
  {
   "cell_type": "code",
   "execution_count": 10,
   "metadata": {},
   "outputs": [
    {
     "data": {
      "text/plain": [
       "89"
      ]
     },
     "execution_count": 10,
     "metadata": {},
     "output_type": "execute_result"
    }
   ],
   "source": [
    "9**19 - int(float(9**19))"
   ]
  },
  {
   "cell_type": "code",
   "execution_count": 11,
   "metadata": {},
   "outputs": [
    {
     "data": {
      "text/plain": [
       "1.350851717672992e+18"
      ]
     },
     "execution_count": 11,
     "metadata": {},
     "output_type": "execute_result"
    }
   ],
   "source": [
    "float(9**19)"
   ]
  },
  {
   "cell_type": "code",
   "execution_count": 12,
   "metadata": {},
   "outputs": [
    {
     "data": {
      "text/plain": [
       "1350851717672992000"
      ]
     },
     "execution_count": 12,
     "metadata": {},
     "output_type": "execute_result"
    }
   ],
   "source": [
    "int(float(9**19))"
   ]
  },
  {
   "cell_type": "code",
   "execution_count": 13,
   "metadata": {},
   "outputs": [
    {
     "data": {
      "text/plain": [
       "1350851717672992089"
      ]
     },
     "execution_count": 13,
     "metadata": {},
     "output_type": "execute_result"
    }
   ],
   "source": [
    "9**19"
   ]
  },
  {
   "cell_type": "code",
   "execution_count": 14,
   "metadata": {},
   "outputs": [],
   "source": [
    "x = 9 > 0"
   ]
  },
  {
   "cell_type": "code",
   "execution_count": 15,
   "metadata": {},
   "outputs": [
    {
     "data": {
      "text/plain": [
       "True"
      ]
     },
     "execution_count": 15,
     "metadata": {},
     "output_type": "execute_result"
    }
   ],
   "source": [
    "x"
   ]
  },
  {
   "cell_type": "code",
   "execution_count": 16,
   "metadata": {},
   "outputs": [
    {
     "name": "stdout",
     "output_type": "stream",
     "text": [
      "7\n"
     ]
    }
   ],
   "source": [
    "a = 2\n",
    "b = a + 3\n",
    "print (a+b)"
   ]
  },
  {
   "cell_type": "code",
   "execution_count": 17,
   "metadata": {},
   "outputs": [
    {
     "name": "stdout",
     "output_type": "stream",
     "text": [
      "7\n"
     ]
    }
   ],
   "source": [
    "print (a+b)"
   ]
  },
  {
   "cell_type": "code",
   "execution_count": 22,
   "metadata": {},
   "outputs": [
    {
     "name": "stdout",
     "output_type": "stream",
     "text": [
      "345\n",
      "s is = 345\n"
     ]
    }
   ],
   "source": [
    "s = input()\n",
    "print (\"s is =\",s)"
   ]
  },
  {
   "cell_type": "code",
   "execution_count": 23,
   "metadata": {},
   "outputs": [
    {
     "data": {
      "text/plain": [
       "str"
      ]
     },
     "execution_count": 23,
     "metadata": {},
     "output_type": "execute_result"
    }
   ],
   "source": [
    "type(s)"
   ]
  },
  {
   "cell_type": "code",
   "execution_count": 24,
   "metadata": {},
   "outputs": [
    {
     "data": {
      "text/plain": [
       "346"
      ]
     },
     "execution_count": 24,
     "metadata": {},
     "output_type": "execute_result"
    }
   ],
   "source": [
    "int(s) + 1"
   ]
  },
  {
   "cell_type": "code",
   "execution_count": 26,
   "metadata": {},
   "outputs": [
    {
     "name": "stdout",
     "output_type": "stream",
     "text": [
      "480\n",
      "1\n",
      "2\n",
      "2\n",
      "9\n",
      "2\n"
     ]
    }
   ],
   "source": [
    "x = int(input())\n",
    "h = int(input())\n",
    "m = int(input())\n",
    "h += x//60\n",
    "newm = m+(x%60)\n",
    "print(newm)\n",
    "h += newm//60\n",
    "m = newm%60\n",
    "print (h)\n",
    "print (m)"
   ]
  },
  {
   "cell_type": "code",
   "execution_count": 30,
   "metadata": {},
   "outputs": [
    {
     "name": "stdout",
     "output_type": "stream",
     "text": [
      "True\n"
     ]
    }
   ],
   "source": [
    "x = False\n",
    "print (not x)"
   ]
  },
  {
   "cell_type": "code",
   "execution_count": 34,
   "metadata": {},
   "outputs": [
    {
     "name": "stdout",
     "output_type": "stream",
     "text": [
      "TRUE\n"
     ]
    }
   ],
   "source": [
    "if (True):\n",
    "    print('TRUE')\n",
    "else:  \n",
    "    print('False')"
   ]
  },
  {
   "cell_type": "code",
   "execution_count": 35,
   "metadata": {},
   "outputs": [
    {
     "name": "stdout",
     "output_type": "stream",
     "text": [
      "2.0\n"
     ]
    }
   ],
   "source": [
    "x = 2\n",
    "y = 4\n",
    "print(y/x)"
   ]
  },
  {
   "cell_type": "code",
   "execution_count": 3,
   "metadata": {},
   "outputs": [
    {
     "name": "stdout",
     "output_type": "stream",
     "text": [
      "1\n",
      "9\n",
      "10\n",
      "Пересып\n"
     ]
    }
   ],
   "source": [
    "A = int(input())\n",
    "B = int(input())\n",
    "H = int(input())\n",
    "\n",
    "if (A <= H <= B):\n",
    "    print(\"Это нормально\")\n",
    "elif (H < A):\n",
    "    print(\"Недосып\")\n",
    "else:\n",
    "    print(\"Пересып\")\n"
   ]
  },
  {
   "cell_type": "code",
   "execution_count": 15,
   "metadata": {},
   "outputs": [
    {
     "name": "stdout",
     "output_type": "stream",
     "text": [
      "2004\n",
      "Високосный\n"
     ]
    }
   ],
   "source": [
    "year = int(input())\n",
    "\n",
    "if (year%4 ==0 and year%100!=0 or year%400==0):\n",
    "    print(\"Високосный\")\n",
    "else:\n",
    "    print(\"Обычный\")"
   ]
  },
  {
   "cell_type": "code",
   "execution_count": 3,
   "metadata": {},
   "outputs": [
    {
     "name": "stdout",
     "output_type": "stream",
     "text": [
      "string#a string#b\n",
      "string#astring#b\n",
      "False\n",
      "string#a string#b\n"
     ]
    }
   ],
   "source": [
    "a = \"string#a\"\n",
    "b = \"string#b\"\n",
    "# Однострочный коммент\n",
    "print(a,b)\n",
    "'''\n",
    "Многострочный\n",
    "'''\n",
    "print(a+b)\n",
    "print(a>b)\n",
    "print(a + \" \" + b)"
   ]
  },
  {
   "cell_type": "code",
   "execution_count": 2,
   "metadata": {},
   "outputs": [
    {
     "name": "stdout",
     "output_type": "stream",
     "text": [
      "3\n",
      "4\n",
      "5\n",
      "6.0\n"
     ]
    }
   ],
   "source": [
    "a = int(input())\n",
    "b = int(input())\n",
    "c = int(input())\n",
    "p = (a + b + c)/2\n",
    "result = (p*(p-a)*(p-b)*(p-c))**0.5\n",
    "print (result)"
   ]
  },
  {
   "cell_type": "code",
   "execution_count": 5,
   "metadata": {},
   "outputs": [
    {
     "name": "stdout",
     "output_type": "stream",
     "text": [
      "16\n",
      "True\n"
     ]
    }
   ],
   "source": [
    "num = int(input())\n",
    "a = (-15 < num <= 12)\n",
    "b = (14 < num < 17)\n",
    "c = (19 <= num)\n",
    "if (a or b or c):\n",
    "    print(True)\n",
    "else:\n",
    "    print(False)"
   ]
  },
  {
   "cell_type": "code",
   "execution_count": 8,
   "metadata": {},
   "outputs": [
    {
     "name": "stdout",
     "output_type": "stream",
     "text": [
      "3\n",
      "4\n",
      "*\n",
      "12\n"
     ]
    }
   ],
   "source": [
    "a = int(input())\n",
    "b = int(input())\n",
    "operation = input()\n",
    "# Поддерживаемые операции: +, -, /, *, mod, pow, div\n",
    "if operation==\"+\":\n",
    "    print(a+b)\n",
    "elif operation==\"-\":\n",
    "    print(a-b)\n",
    "elif operation==\"/\":\n",
    "    if (b == 0):\n",
    "        print(\"Деление на 0!\")\n",
    "    else:\n",
    "        print(a/b)\n",
    "elif operation==\"*\":\n",
    "    print(a*b)\n",
    "elif operation==\"mod\":\n",
    "    if (b == 0):\n",
    "        print(\"Деление на 0!\")\n",
    "    else:\n",
    "        print(a%b)\n",
    "elif operation==\"pow\":\n",
    "    print(a**b)\n",
    "elif operation==\"div\":\n",
    "    if (b == 0):\n",
    "        print(\"Деление на 0!\")\n",
    "    else:\n",
    "        print(a//b) "
   ]
  },
  {
   "cell_type": "code",
   "execution_count": 12,
   "metadata": {},
   "outputs": [
    {
     "name": "stdout",
     "output_type": "stream",
     "text": [
      "треугольник\n",
      "2\n",
      "5\n",
      "7\n",
      "0.0\n"
     ]
    }
   ],
   "source": [
    "type = input()\n",
    "\n",
    "if type==\"треугольник\":\n",
    "    a = int(input())\n",
    "    b = int(input())\n",
    "    c = int(input())\n",
    "    p = (a + b + c)/2\n",
    "    result = (p*(p-a)*(p-b)*(p-c))**0.5\n",
    "elif type==\"прямоугольник\":\n",
    "    a = int(input())\n",
    "    b = int(input())\n",
    "    result = a*b\n",
    "elif type==\"круг\":\n",
    "    r = int(input())\n",
    "    result = 3.14 * r\n",
    "\n",
    "print (result)\n",
    "    "
   ]
  },
  {
   "cell_type": "code",
   "execution_count": 1,
   "metadata": {},
   "outputs": [
    {
     "name": "stdout",
     "output_type": "stream",
     "text": [
      "1\n",
      "2\n",
      "3\n",
      "3\n",
      "1\n",
      "2\n"
     ]
    }
   ],
   "source": [
    "a = int(input())\n",
    "b = int(input())\n",
    "c = int(input())\n",
    "\n",
    "sortlist = [a,b,c]\n",
    "sortlist.sort()\n",
    "\n",
    "print(sortlist[2])\n",
    "print(sortlist[0])\n",
    "print(sortlist[1])"
   ]
  },
  {
   "cell_type": "code",
   "execution_count": 2,
   "metadata": {},
   "outputs": [
    {
     "name": "stdout",
     "output_type": "stream",
     "text": [
      "113\n",
      "113 программистов\n"
     ]
    }
   ],
   "source": [
    "# put your python code here\n",
    "n = int(input())\n",
    "\n",
    "if n%10==0 or n%10>=5 or 11 <= n%100 <= 14:\n",
    "    print(n, \"программистов\")\n",
    "elif n%10==1:\n",
    "    print(n, \"программист\")\n",
    "else:\n",
    "    print(n, \"программиста\")"
   ]
  },
  {
   "cell_type": "code",
   "execution_count": 3,
   "metadata": {},
   "outputs": [
    {
     "name": "stdout",
     "output_type": "stream",
     "text": [
      "123456\n",
      "15 6\n"
     ]
    }
   ],
   "source": [
    "# put your python code here\n",
    "x = int(input())\n",
    "y=0;\n",
    "z=0;\n",
    "for i in [0,1,2]:\n",
    "    y += x%10\n",
    "    x = x//10\n",
    "    \n",
    "for i in [0,1,2]:\n",
    "    z += x%10\n",
    "    x = x//10\n",
    "\n",
    "print(y,z)"
   ]
  },
  {
   "cell_type": "code",
   "execution_count": 4,
   "metadata": {},
   "outputs": [
    {
     "name": "stdout",
     "output_type": "stream",
     "text": [
      "5\n",
      "4\n",
      "3\n",
      "2\n",
      "1\n",
      "5 4 3 2 1 5 space\n",
      "4 space\n",
      "3 space\n",
      "2 space\n",
      "1 space\n"
     ]
    }
   ],
   "source": [
    "a = 5\n",
    "\n",
    "while a>0:\n",
    "    print(a)\n",
    "    a -= 1\n",
    "    \n",
    "a = 5\n",
    "while a>0:\n",
    "    print(a,end=\" \")\n",
    "    a -= 1\n",
    "\n",
    "a = 5\n",
    "wat = \"space\"\n",
    "while a>0:\n",
    "    print(a,wat)\n",
    "    a -= 1"
   ]
  },
  {
   "cell_type": "code",
   "execution_count": 1,
   "metadata": {},
   "outputs": [
    {
     "name": "stdout",
     "output_type": "stream",
     "text": [
      "Введите кол-во желаемых выражений: 3\n",
      "Число выражений: 3\n",
      "Введите два числа через пробел: 1 2\n",
      "2\n",
      "Засчитано, осталось выражений:  2\n",
      "Введите два числа через пробел: 1 0\n",
      "Игнорирую\n",
      "Введите два числа через пробел: 1 2\n",
      "2\n",
      "Засчитано, осталось выражений:  1\n",
      "Введите два числа через пробел: 2 3\n",
      "6\n",
      "Засчитано, осталось выражений:  0\n",
      "Кол-во выражений исчерпано\n"
     ]
    }
   ],
   "source": [
    "i = 0\n",
    "numb = int(input('Введите кол-во желаемых выражений: '))\n",
    "print('Число выражений:', numb)\n",
    "while i < numb:\n",
    "    a, b = input('Введите два числа через пробел: ').split()\n",
    "    a = int(a)\n",
    "    b = int(b)\n",
    "    if (a == 0) and (b == 0):\n",
    "        print('Окончание работы. ')\n",
    "        break\n",
    "    if (a == 0) or (b == 0):\n",
    "        print('Игнорирую')\n",
    "        continue\n",
    "    print(a * b)\n",
    "    print('Засчитано, ', end='')\n",
    "    i += 1\n",
    "    print('осталось выражений: ', numb - i)\n",
    "else:\n",
    "    print('Кол-во выражений исчерпано')"
   ]
  },
  {
   "cell_type": "code",
   "execution_count": 2,
   "metadata": {},
   "outputs": [
    {
     "name": "stdout",
     "output_type": "stream",
     "text": [
      "1\n",
      "11\n",
      "11\n",
      "32\n",
      "32\n",
      "101\n"
     ]
    }
   ],
   "source": [
    "while 1:\n",
    "    num = int(input())\n",
    "    if (10 <= num <= 100):\n",
    "        print(num)\n",
    "    elif num > 100:\n",
    "        break"
   ]
  },
  {
   "cell_type": "code",
   "execution_count": 9,
   "metadata": {},
   "outputs": [
    {
     "name": "stdout",
     "output_type": "stream",
     "text": [
      "1\n",
      "4\n",
      "5\n",
      "7\n",
      "\t5\t6\t7\t\n",
      "1\t5\t6\t7\t\n",
      "2\t10\t12\t14\t\n",
      "3\t15\t18\t21\t\n",
      "4\t20\t24\t28\t\n"
     ]
    }
   ],
   "source": [
    "a = int(input())\n",
    "b = int(input())\n",
    "c = int(input())\n",
    "d = int(input())\n",
    "\n",
    "print (\"\", end=\"\\t\")\n",
    "for i in range (c, d+1):\n",
    "    print (i, end=\"\\t\")\n",
    "print ()\n",
    "\n",
    "for i in range(a, b+1):\n",
    "    print(i, end=\"\\t\")\n",
    "    for j in range (c, d+1):\n",
    "        print (i*j,end=\"\\t\")\n",
    "    print()"
   ]
  },
  {
   "cell_type": "code",
   "execution_count": 13,
   "metadata": {},
   "outputs": [
    {
     "name": "stdout",
     "output_type": "stream",
     "text": [
      "3 4\n"
     ]
    }
   ],
   "source": [
    "a, b = (int(i) for i in input().split())"
   ]
  },
  {
   "cell_type": "code",
   "execution_count": 19,
   "metadata": {},
   "outputs": [
    {
     "name": "stdout",
     "output_type": "stream",
     "text": [
      "3 9\n",
      "6.0\n"
     ]
    }
   ],
   "source": [
    "a, b = (int(i) for i in input().split())\n",
    "sum = 0\n",
    "n = 0\n",
    "\n",
    "for i in range(a,b+1):\n",
    "    if (i%3 == 0):\n",
    "        sum += i\n",
    "        n+=1;\n",
    "print(sum/n)"
   ]
  },
  {
   "cell_type": "code",
   "execution_count": 2,
   "metadata": {},
   "outputs": [
    {
     "name": "stdout",
     "output_type": "stream",
     "text": [
      "GgCc\n",
      "50.0\n",
      "50.0\n"
     ]
    }
   ],
   "source": [
    "str1 = input().lower()\n",
    "G_c = str1.count(\"g\") / len(str1) * 100\n",
    "C_c = str1.count('c') / len(str1) * 100\n",
    "print(G_c + C_c)"
   ]
  },
  {
   "cell_type": "code",
   "execution_count": 1,
   "metadata": {},
   "outputs": [
    {
     "name": "stdout",
     "output_type": "stream",
     "text": [
      "qqwwertty\n",
      "q2w2e1r1t2y1\n"
     ]
    }
   ],
   "source": [
    "string = input()\n",
    "\n",
    "result_string = \"\"\n",
    "s_char = string[0]\n",
    "pos = 1\n",
    "for i in string[1:]:\n",
    "    if i == s_char:\n",
    "       pos += 1\n",
    "    else:\n",
    "        result_string += s_char + str(pos)\n",
    "        pos = 1\n",
    "        s_char = i\n",
    "        \n",
    "result_string += s_char + str(pos)\n",
    "print(result_string)\n",
    "    "
   ]
  },
  {
   "cell_type": "markdown",
   "metadata": {},
   "source": [
    "Сколько элементов будет содержать список students после следующих операций?\n",
    "\n",
    "students = ['Ivan', 'Masha', 'Sasha']\n",
    "students += ['Olga']\n",
    "students += 'Olga'\n",
    "\n",
    "Введите в поле ответа одно число.\n",
    "Подумайте, почему так происходит.\n",
    "Ответ: 8. т.к. \"Olga\" это строка"
   ]
  },
  {
   "cell_type": "markdown",
   "metadata": {},
   "source": [
    "slice надо подсказку сделать\n"
   ]
  },
  {
   "cell_type": "code",
   "execution_count": 13,
   "metadata": {
    "scrolled": true
   },
   "outputs": [
    {
     "name": "stdout",
     "output_type": "stream",
     "text": [
      "1 2 3 4\n",
      "10\n"
     ]
    }
   ],
   "source": [
    "a = [int(s) for s in input().split()]\n",
    "sum = 0\n",
    "for i in a:\n",
    "    sum += i\n",
    "print(sum)"
   ]
  },
  {
   "cell_type": "code",
   "execution_count": 2,
   "metadata": {},
   "outputs": [
    {
     "name": "stdout",
     "output_type": "stream",
     "text": [
      "1 2 3 4\n",
      "10\n"
     ]
    }
   ],
   "source": [
    "print (sum ([int(s) for s in input().split()]))"
   ]
  },
  {
   "cell_type": "markdown",
   "metadata": {},
   "source": [
    "Напишите программу, на вход которой подаётся список чисел одной строкой. Программа должна для каждого элемента этого списка вывести сумму двух его соседей. Для элементов списка, являющихся крайними, одним из соседей считается элемент, находящий на противоположном конце этого списка. Например, если на вход подаётся список \"1 3 5 6 10\", то на выход ожидается список \"13 6 9 15 7\" (без кавычек).\n",
    "\n",
    "Если на вход пришло только одно число, надо вывести его же.\n",
    "\n",
    "Вывод должен содержать одну строку с числами нового списка, разделёнными пробелом."
   ]
  },
  {
   "cell_type": "code",
   "execution_count": 27,
   "metadata": {},
   "outputs": [
    {
     "name": "stdout",
     "output_type": "stream",
     "text": [
      "1 3 4\n",
      "7 5 4 "
     ]
    }
   ],
   "source": [
    "a = [int(s) for s in input().split()]\n",
    "if not len(a) == 1:\n",
    "    a.insert(0,a[len(a)-1])\n",
    "    a.append(a[1])\n",
    "    result = [i for i in a]\n",
    "    index = 1\n",
    "    for i in a[1:-1:1]:\n",
    "        print (a[index-1]+a[index+1], end=\" \")\n",
    "        index+=1\n",
    "else:\n",
    "    print(a[0])"
   ]
  },
  {
   "cell_type": "code",
   "execution_count": 24,
   "metadata": {},
   "outputs": [
    {
     "name": "stdout",
     "output_type": "stream",
     "text": [
      "1 2 3\n",
      "5 4 3 "
     ]
    }
   ],
   "source": [
    "a = [int(i) for i in input().split()]\n",
    "b = len(a)\n",
    "if not b == 1:\n",
    "    for i in range(len(a)):\n",
    "        print(a[(i+1)%b]  + a[i-1],end=\" \")\n",
    "else:\n",
    "    print(a[0])"
   ]
  },
  {
   "cell_type": "markdown",
   "metadata": {},
   "source": [
    "Напишите программу, которая принимает на вход список чисел в одной строке и выводит на экран в одну строку значения, которые повторяются в нём более одного раза.\n",
    "\n",
    "Для решения задачи может пригодиться метод sort списка.\n",
    "\n",
    "Выводимые числа не должны повторяться, порядок их вывода может быть произвольным."
   ]
  },
  {
   "cell_type": "code",
   "execution_count": 20,
   "metadata": {},
   "outputs": [
    {
     "name": "stdout",
     "output_type": "stream",
     "text": [
      "1 2 2 3 \n",
      "2 "
     ]
    }
   ],
   "source": [
    "a = [int(i) for i in input().split()]\n",
    "a.sort()\n",
    "count = 0\n",
    "for i in a:\n",
    "    if count == 0 or equal != i:\n",
    "        equal = i\n",
    "        count = 1\n",
    "    elif equal == i:\n",
    "        count = count + 1\n",
    "    if count == 2:\n",
    "        print(i, end=\" \")"
   ]
  },
  {
   "cell_type": "code",
   "execution_count": 22,
   "metadata": {},
   "outputs": [
    {
     "name": "stdout",
     "output_type": "stream",
     "text": [
      "2 1 1 2\n",
      "1 2 "
     ]
    }
   ],
   "source": [
    "ls = [int(i) for i in input().split()]\n",
    "for i in set(ls):\n",
    "    if ls.count(i) > 1:\n",
    "        print(i, end=' ')"
   ]
  },
  {
   "cell_type": "markdown",
   "metadata": {},
   "source": [
    "Напишите программу, которая считывает с консоли числа (по одному в строке) до тех пор, пока сумма введённых чисел не будет равна 0 и сразу после этого выводит сумму квадратов всех считанных чисел.\n",
    "\n",
    "Гарантируется, что в какой-то момент сумма введённых чисел окажется равной 0, после этого считывание продолжать не нужно.\n",
    "\n",
    "В примере мы считываем числа 1, -3, 5, -6, -10, 13; в этот момент замечаем, что сумма этих чисел равна нулю и выводим сумму их квадратов, не обращая внимания на то, что остались ещё не прочитанные значения.﻿"
   ]
  },
  {
   "cell_type": "code",
   "execution_count": 3,
   "metadata": {},
   "outputs": [
    {
     "name": "stdout",
     "output_type": "stream",
     "text": [
      "1\n",
      "2\n",
      "3\n",
      "-6\n",
      "50\n"
     ]
    }
   ],
   "source": [
    "pows = 0\n",
    "sum = 0\n",
    "while 1:\n",
    "    a = int(input())\n",
    "    pows += pow(a,2)\n",
    "    sum += a\n",
    "    if sum==0:\n",
    "        break\n",
    "        \n",
    "print(pows)"
   ]
  },
  {
   "cell_type": "markdown",
   "metadata": {},
   "source": [
    "Напишите программу, которая выводит часть последовательности 1 2 2 3 3 3 4 4 4 4 5 5 5 5 5 ... (число повторяется столько раз, чему равно). На вход программе передаётся неотрицательное целое число n — столько элементов последовательности должна отобразить программа. На выходе ожидается последовательность чисел, записанных через пробел в одну строку.\n",
    "\n",
    "Например, если n = 7, то программа должна вывести 1 2 2 3 3 3 4."
   ]
  },
  {
   "cell_type": "code",
   "execution_count": 14,
   "metadata": {},
   "outputs": [
    {
     "name": "stdout",
     "output_type": "stream",
     "text": [
      "6\n",
      "1 2 2 3 3 3 "
     ]
    }
   ],
   "source": [
    "n = int(input())\n",
    "count = 0\n",
    "for i in range(1, n+1):\n",
    "    for j in range(i):\n",
    "        print(i, end=\" \")\n",
    "        count += 1\n",
    "        if (count == n):\n",
    "            break\n",
    "    \n",
    "    if (count == n):\n",
    "        break"
   ]
  },
  {
   "cell_type": "code",
   "execution_count": 15,
   "metadata": {},
   "outputs": [
    {
     "name": "stdout",
     "output_type": "stream",
     "text": [
      "6\n",
      "1 2 2 3 3 3\n"
     ]
    }
   ],
   "source": [
    "n = int(input())\n",
    "a = []\n",
    "i = 0\n",
    "while len(a) < n:\n",
    "    a += [i] * i\n",
    "    i += 1\n",
    "print(*a[:n])"
   ]
  },
  {
   "cell_type": "markdown",
   "metadata": {},
   "source": [
    "Напишите программу, которая считывает список чисел lst из первой строки и число x из второй строки, которая выводит все позиции, на которых встречается число x в переданном списке lst.\n",
    "\n",
    "Позиции нумеруются с нуля, если число x не встречается в списке, вывести строку \"Отсутствует\" (без кавычек, с большой буквы).\n",
    "\n",
    "Позиции должны быть выведены в одну строку, по возрастанию абсолютного значения."
   ]
  },
  {
   "cell_type": "code",
   "execution_count": 22,
   "metadata": {},
   "outputs": [
    {
     "name": "stdout",
     "output_type": "stream",
     "text": [
      "1 2 3 2 2\n",
      "2\n",
      "1\n",
      "3\n",
      "4\n"
     ]
    }
   ],
   "source": [
    "a = [int(i) for i in input().split()]\n",
    "n = int(input())\n",
    "if n in a:\n",
    "    for i in range(len(a)):\n",
    "        if a[i] == n:\n",
    "            print(i)\n",
    "else:\n",
    "    print(\"Отсутствует\")"
   ]
  },
  {
   "cell_type": "markdown",
   "metadata": {},
   "source": [
    "Напишите программу, на вход которой подаётся прямоугольная матрица в виде последовательности строк, заканчивающихся строкой, содержащей только строку \"end\" (без кавычек)\n",
    "\n",
    "Программа должна вывести матрицу того же размера, у которой каждый элемент в позиции i, j равен сумме элементов первой матрицы на позициях (i-1, j), (i+1, j), (i, j-1), (i, j+1). У крайних символов соседний элемент находится с противоположной стороны матрицы.\n",
    "\n",
    "В случае одной строки/столбца элемент сам себе является соседом по соответствующему направлению."
   ]
  },
  {
   "cell_type": "code",
   "execution_count": 35,
   "metadata": {},
   "outputs": [
    {
     "name": "stdout",
     "output_type": "stream",
     "text": [
      "1 2 3\n",
      "1 2 3\n",
      "1 2 3\n",
      "end\n",
      "7 8 9\n",
      "7 8 9\n",
      "7 8 9\n"
     ]
    }
   ],
   "source": [
    "matrix = []\n",
    "i = 0\n",
    "while 1:\n",
    "    x = input()\n",
    "    if x == \"end\":\n",
    "        break\n",
    "    matrix.insert(i,[int(i) for i in x.split()])\n",
    "    i += 1\n",
    "\n",
    "result = [row[:] for row in matrix]\n",
    "\n",
    "for i in range(len(matrix)):\n",
    "    for j in range(len(matrix[0])):\n",
    "        next_i = (i+1) % len(matrix)\n",
    "        next_j = (j+1) % len(matrix[0])\n",
    "        result[i][j] = matrix[i-1][j] + matrix[next_i][j] + matrix[i][j-1] + matrix[i][next_j]\n",
    "        \n",
    "for i in result:\n",
    "    print(*i[:])"
   ]
  },
  {
   "cell_type": "markdown",
   "metadata": {},
   "source": [
    "Выведите таблицу размером n×n, заполненную числами от 1 до n2 по спирали, выходящей из левого верхнего угла и закрученной по часовой стрелке, как показано в примере (здесь n=5):"
   ]
  },
  {
   "cell_type": "code",
   "execution_count": 10,
   "metadata": {},
   "outputs": [
    {
     "name": "stdout",
     "output_type": "stream",
     "text": [
      "5\n",
      "1   2   3   4   5   \n",
      "16  17  18  19  6   \n",
      "15  24  25  20  7   \n",
      "14  23  22  21  8   \n",
      "13  12  11  10  9   \n"
     ]
    }
   ],
   "source": [
    "nums = int(input())\n",
    "\n",
    "matrix = [[0] * nums for i in range(nums)]\n",
    "\n",
    "center = nums//2 + nums%2\n",
    "number = 1\n",
    "for coil in range(center):\n",
    "    for j in range(coil,nums-coil,1):\n",
    "        matrix[coil][j] = number\n",
    "        number+=1\n",
    "    for i in range (coil+1, nums-coil, 1):\n",
    "        matrix[i][nums-coil-1] = number\n",
    "        number+=1\n",
    "    for j in range(nums-coil-2,coil-1,-1):\n",
    "        i = nums-coil-1\n",
    "        matrix[i][j] = number\n",
    "        number+=1\n",
    "    for i in range(nums-1-coil-1,coil,-1):\n",
    "        j = coil\n",
    "        matrix[i][j] = number\n",
    "        number+=1\n",
    "    \n",
    "\n",
    "\n",
    "for i in matrix:\n",
    "    for j in i:\n",
    "        print ('%-3d' % (j),end=\" \")\n",
    "    print()\n",
    "    "
   ]
  },
  {
   "cell_type": "code",
   "execution_count": 9,
   "metadata": {},
   "outputs": [
    {
     "name": "stdout",
     "output_type": "stream",
     "text": [
      "5\n",
      "1 2 3 4 5\n",
      "16 17 18 19 6\n",
      "15 24 25 20 7\n",
      "14 23 22 21 8\n",
      "13 12 11 10 9\n"
     ]
    }
   ],
   "source": [
    "n = int(input())\n",
    "x,y,dx,dy, m = 0,0,0,1, [[0]*n for i in range(n)]\n",
    "for i in range(n*n):\n",
    "  m[x][y]=str(i+1)\n",
    "  if x+dx>=n or x+dx<0 or y+dy>=n or y+dy<0 or m[x+dx][y+dy]:\n",
    "      dx,dy = dy,-dx\n",
    "  x,y = x+dx, y+dy\n",
    "print(\"\\n\".join([\" \".join(i) for i in m]))"
   ]
  },
  {
   "cell_type": "markdown",
   "metadata": {},
   "source": [
    "Неделя 3."
   ]
  },
  {
   "cell_type": "code",
   "execution_count": 2,
   "metadata": {},
   "outputs": [
    {
     "name": "stdout",
     "output_type": "stream",
     "text": [
      "10555\n"
     ]
    }
   ],
   "source": [
    "def f(n):\n",
    "    return n * 10 + 5\n",
    "\n",
    "print(f(f(f(10))))"
   ]
  },
  {
   "cell_type": "code",
   "execution_count": 3,
   "metadata": {},
   "outputs": [
    {
     "name": "stdout",
     "output_type": "stream",
     "text": [
      "[2, 2, 3]\n"
     ]
    }
   ],
   "source": [
    "def change_list(a):\n",
    "    a[0] = 2\n",
    "    \n",
    "list = [1,2,3]\n",
    "change_list(list)\n",
    "print(list)"
   ]
  },
  {
   "cell_type": "code",
   "execution_count": 6,
   "metadata": {},
   "outputs": [
    {
     "name": "stdout",
     "output_type": "stream",
     "text": [
      "1\n",
      "2\n",
      "1 2 "
     ]
    }
   ],
   "source": [
    "def myprint(*a,end=\"\\n\"):\n",
    "    for value in a:\n",
    "        print(value,end=end)\n",
    "\n",
    "myprint(1,2)\n",
    "myprint(1,2,end=\" \")"
   ]
  },
  {
   "cell_type": "markdown",
   "metadata": {},
   "source": [
    "https://stepik.org/lesson/3372/step/8?unit=955"
   ]
  },
  {
   "cell_type": "code",
   "execution_count": 10,
   "metadata": {},
   "outputs": [
    {
     "name": "stdout",
     "output_type": "stream",
     "text": [
      "0.0\n",
      "7.25\n",
      "-5.25\n",
      "-0.5\n"
     ]
    }
   ],
   "source": [
    "def f(x):\n",
    "    if x <= -2:\n",
    "        return (1-((x+2)**2))\n",
    "    elif x <= 2:\n",
    "        return -x/2\n",
    "    else:\n",
    "        return (x-2)**2 + 1\n",
    "    \n",
    "print (f(0))\n",
    "print (f(4.5))\n",
    "print (f(-4.5))\n",
    "print (f(1))"
   ]
  },
  {
   "cell_type": "markdown",
   "metadata": {},
   "source": [
    "Напишите функцию modify_list(l), которая принимает на вход список целых чисел, удаляет из него все нечётные значения, а чётные нацело делит на два. Функция не должна ничего возвращать, требуется только изменение переданного списка"
   ]
  },
  {
   "cell_type": "code",
   "execution_count": 24,
   "metadata": {},
   "outputs": [
    {
     "name": "stdout",
     "output_type": "stream",
     "text": [
      "None\n",
      "[1, 2, 3]\n",
      "[1]\n",
      "[5, 4]\n"
     ]
    }
   ],
   "source": [
    "def modify_list(list):\n",
    "    new_list = []\n",
    "    for x in list:\n",
    "        if x%2 == 0:\n",
    "            new_list.append(x//2)\n",
    "    # Почему list = new_list не сработало?\n",
    "    # Вот так понятно дело работает:\n",
    "#     list.clear()\n",
    "#     list.extend(new_list)\n",
    "    # А так не понятно почему работает?\n",
    "    list[:] = new_list\n",
    "    \n",
    "lst = [1, 2, 3, 4, 5, 6]\n",
    "print(modify_list(lst))  # None\n",
    "print(lst)               # [1, 2, 3]\n",
    "modify_list(lst)\n",
    "print(lst)               # [1]\n",
    "\n",
    "lst = [10, 5, 8, 3]\n",
    "modify_list(lst)\n",
    "print(lst)"
   ]
  },
  {
   "cell_type": "code",
   "execution_count": null,
   "metadata": {},
   "outputs": [],
   "source": [
    "# Решение типа\n",
    "def modify_list(l):\n",
    "    l[:] = [i//2 for i in l if not i % 2]"
   ]
  },
  {
   "cell_type": "markdown",
   "metadata": {},
   "source": [
    "Напишите функцию update_dictionary(d, key, value), которая принимает на вход словарь d и два числа: key и value.\n",
    "\n",
    "Если ключ key есть в словаре d, то добавьте значение value в список, который хранится по этому ключу. \n",
    "Если ключа key нет в словаре, то нужно добавить значение в список по ключу 2⋅key. Если и ключа 2⋅key нет, то нужно добавить ключ 2⋅key в словарь и сопоставить ему список из переданного элемента [value].\n",
    "\n",
    "Требуется реализовать только эту функцию, кода вне неё не должно быть.\n",
    "Функция не должна вызывать внутри себя функции input и print."
   ]
  },
  {
   "cell_type": "code",
   "execution_count": 3,
   "metadata": {},
   "outputs": [
    {
     "name": "stdout",
     "output_type": "stream",
     "text": [
      "None\n",
      "{2: [-1]}\n",
      "{2: [-1, -2]}\n",
      "{2: [-1, -2, -3]}\n"
     ]
    }
   ],
   "source": [
    "def update_dictionary(d,key,value):\n",
    "    if key in d:\n",
    "        d[key].append(value)\n",
    "    elif (2*key) in d:\n",
    "        d[2*key].append(value)\n",
    "    else:\n",
    "        d[2*key] = [value]\n",
    "        \n",
    "        \n",
    "d = {}\n",
    "print(update_dictionary(d, 1, -1))  # None\n",
    "print(d)                            # {2: [-1]}\n",
    "update_dictionary(d, 2, -2)\n",
    "print(d)                            # {2: [-1, -2]}\n",
    "update_dictionary(d, 1, -3)\n",
    "print(d)                            # {2: [-1, -2, -3]}"
   ]
  },
  {
   "cell_type": "markdown",
   "metadata": {},
   "source": [
    "Решение с форума интересное:"
   ]
  },
  {
   "cell_type": "code",
   "execution_count": 5,
   "metadata": {},
   "outputs": [],
   "source": [
    "def update_dictionary(d, key, value):\n",
    "    try: \n",
    "        d[key].append(value)\n",
    "    except:\n",
    "        d.setdefault(key*2,[]).append(value)"
   ]
  },
  {
   "cell_type": "markdown",
   "metadata": {},
   "source": [
    "Когда Антон прочитал «Войну и мир», ему стало интересно, сколько слов и в каком количестве используется в этой книге.\n",
    "\n",
    "Помогите Антону написать упрощённую версию такой программы, которая сможет подсчитать слова, разделённые пробелом и вывести получившуюся статистику.\n",
    "\n",
    "Программа должна считывать одну строку со стандартного ввода и выводить для каждого уникального слова в этой строке число его повторений (без учёта регистра) в формате \"слово количество\" (см. пример вывода). \n",
    "Порядок вывода слов может быть произвольным, каждое уникальное слово﻿ должно выводиться только один раз."
   ]
  },
  {
   "cell_type": "code",
   "execution_count": 2,
   "metadata": {},
   "outputs": [
    {
     "name": "stdout",
     "output_type": "stream",
     "text": [
      "q qw qw q\n",
      "q 2\n",
      "qw 2\n"
     ]
    }
   ],
   "source": [
    "str = input()\n",
    "\n",
    "d = {}\n",
    "for substr in str.lower().split(\" \"):\n",
    "        d[substr] = d.setdefault(substr, 0) + 1\n",
    "        \n",
    "for key, value in d.items():\n",
    "    print (key, value)"
   ]
  },
  {
   "cell_type": "markdown",
   "metadata": {},
   "source": [
    "Имеется реализованная функция f(x), принимающая на вход целое число x, которая вычисляет некоторое целочисленое значение и возвращает его в качестве результата работы.\n",
    "\n",
    "Функция вычисляется достаточно долго, ничего не выводит на экран, не пишет в файлы и зависит только от переданного аргумента x.\n",
    "\n",
    "Напишите программу, которой на вход в первой строке подаётся число n — количество значений x, для которых требуется узнать значение функции f(x), после чего сами эти n значений, каждое на отдельной строке. Программа должна после каждого введённого значения аргумента вывести соответствующие значения функции f на отдельной строке.\n",
    "\n",
    "Для ускорения вычисления необходимо сохранять уже вычисленные значения функции при известных аргументах.\n",
    "\n",
    "Обратите внимание, что в этой задаче установлено достаточно сильное ограничение в две секунды по времени исполнения кода на тесте."
   ]
  },
  {
   "cell_type": "code",
   "execution_count": 7,
   "metadata": {},
   "outputs": [
    {
     "name": "stdout",
     "output_type": "stream",
     "text": [
      "5\n",
      "5\n",
      "0\n",
      "1\n",
      "0\n",
      "2\n",
      "0\n",
      "3\n",
      "0\n",
      "4\n",
      "0\n",
      "{5: 0, 1: 0, 2: 0, 3: 0, 4: 0}\n"
     ]
    }
   ],
   "source": [
    "def f(x):\n",
    "    return 0\n",
    "\n",
    "n = int(input())\n",
    "results = dict()\n",
    "for i in range(n):\n",
    "    x = int(input())\n",
    "    if x not in results:\n",
    "        results[x] = f(x)\n",
    "    print (results[x])"
   ]
  },
  {
   "cell_type": "markdown",
   "metadata": {},
   "source": [
    "Решение с форума (не удовл. условию что результат сразу после ввода но это просто пиздец погляди)"
   ]
  },
  {
   "cell_type": "code",
   "execution_count": 9,
   "metadata": {},
   "outputs": [
    {
     "name": "stdout",
     "output_type": "stream",
     "text": [
      "5\n",
      "5\n",
      "5\n",
      "5\n",
      "5\n",
      "5\n",
      "0\n",
      "0\n",
      "0\n",
      "0\n",
      "0\n"
     ]
    }
   ],
   "source": [
    "x = [int(input()) for i in range(int(input()))]\n",
    "b = {x : f(x) for x in set(x)}\n",
    "print (*[b[i] for i in x], sep='\\n')"
   ]
  },
  {
   "cell_type": "markdown",
   "metadata": {},
   "source": [
    "На прошлой неделе мы сжимали строки, используя кодирование повторов. Теперь нашей задачей будет восстановление исходной строки обратно.\n",
    "\n",
    "Напишите программу, которая считывает из файла строку, соответствующую тексту, сжатому с помощью кодирования повторов, и производит обратную операцию, получая исходный текст.\n",
    "\n",
    "Запишите полученный текст в файл и прикрепите его, как ответ на это задание.\n",
    "\n",
    "В исходном тексте не встречаются цифры, так что код однозначно интерпретируем.\n",
    "\n",
    "Примечание. Это первое задание типа Dataset Quiz. В таких заданиях после нажатия \"Start Quiz\" у вас появляется ссылка \"download your dataset\". Используйте эту ссылку для того, чтобы загрузить файл со входными данными к себе на компьютер. Запустите вашу программу, используя этот файл в качестве входных данных. Выходной файл, который при этом у вас получится, надо отправить в качестве ответа на эту задачу. "
   ]
  },
  {
   "cell_type": "code",
   "execution_count": 42,
   "metadata": {},
   "outputs": [],
   "source": [
    "# input: B18l19e10Y8H2f12F17e7z14D18r11D3h2m4a1q14c18D7v5q10A2H10q1v2T18Q3x10r18G20J4w18\n",
    "# result: BBBBBBBBBBBBBBBBBBllllllllllllllllllleeeeeeeeeeYYYYYYYYHHffffffffffffFFFFFFFFFFFFFFFFFeeeeeeezzzzzzzzzzzzzzDDDDDDDDDDDDDDDDDDrrrrrrrrrrrDDDhhmmmmaqqqqqqqqqqqqqqccccccccccccccccccDDDDDDDvvvvvqqqqqqqqqqAAHHHHHHHHHHqvvTTTTTTTTTTTTTTTTTTQQQxxxxxxxxxxrrrrrrrrrrrrrrrrrrGGGGGGGGGGGGGGGGGGGGJJJJwwwwwwwwwwwwwwwwww\n",
    "\n",
    "import re\n",
    "\n",
    "def decode (str):\n",
    "    r_str = \"\"\n",
    "    counts = re.findall('\\d+',str)\n",
    "    symbols = re.findall('[a-zA-Z_]', str)\n",
    "    for i in range(len(counts)):\n",
    "        for x in range(int(counts[i])):\n",
    "            r_str = r_str + symbols[i]\n",
    "    return r_str\n",
    "        \n",
    "\n",
    "with open('input.txt','r') as file:\n",
    "    with open('results.txt','w') as r_file:\n",
    "        for line in file:\n",
    "            line = line.strip()\n",
    "            r_file.write(decode(line) + \"\\n\")\n"
   ]
  },
  {
   "cell_type": "markdown",
   "metadata": {},
   "source": [
    "Недавно мы считали для каждого слова количество его вхождений в строку. Но на все слова может быть не так интересно смотреть, как, например, на наиболее часто используемые.\n",
    "\n",
    "Напишите программу, которая считывает текст из файла (в файле может быть больше одной строки) и выводит самое частое слово в этом тексте и через пробел то, сколько раз оно встретилось. Если таких слов несколько, вывести лексикографически первое (можно использовать оператор < для строк).\n",
    "\n",
    "В качестве ответа укажите вывод программы, а не саму программу.\n",
    "\n",
    "Слова, написанные в разных регистрах, считаются одинаковыми.\n",
    "\n",
    "Input:\n",
    "ddXXapcUc cp cp XY Xd TTZYaYda TTZYaYda cp TTZYaYda cp cp XbdaTbUcY TTZYaYda UTTbYUbba YTaTYac YpYYd TZYdp pT XY TaYUTZY bbXdU pT b a\n",
    "ZdaZ ZdaZ ZTdpb aad ddYpcp Ubbp Ubbp bc ZabdT Ubbp bYZ ZdaZ U aad ZTdpb aad YUX ZTdpb YZbUd\n",
    "UcTT c c YTcbYZ ZXYaYbUa YTcbYZ d b ZTTXcUp Ub YTcbYZ YXa Yc aZ dppYZZpaY YTUaT Yc pabb UUpUYpU ccTddZbT ZdZXd UTUbaUdZT YXYadbUcT YcX p UUpUYpU bcYZ p dUpdTbbpT\n",
    "ccTbXY aZTpXaTUd TcaXYZd aZTpXaTUd pYU TcaXYZd daTZpZc Y Uapapa d TcaXYZd ccTbXY c b aYd pZTp apa bcaa UapXp ZUpc XdcbaXYa UapXp Uapapa aXU aZTpXaTUd pZTp cXYZcd b bp YTUYZU TcaXYZd a YpX ZaXZX cXZ cZaabTYbY UapXp YUUU c aZTpXaTUd dccX pY bcYZa ZUpc YYXT cpcZaZ bZbXdpd ZUpc Z ddbp Tabc pZYTa abaaZYpZZ\n",
    "TbZbbUbcT cccYTT YXpppYU bT pappY dTabpXbXT XXbYcd dUcYb Ta dUcYb bbp TXaXc ZdZcbX Y pappY bYXcZdZp XX Uc bYXcZdZp dUU bYXcZdZp Zcdd Y dUU T pa bTpUXacZ dUcYb ddaUaXXX TZb dTccpZYXc TbZbbUbcT Ta YXUdbZ aZdZYa bZUZbbYXX TZb XX T apU Uc UdddUbXb T XYdYpXpaX p dUcYb Uc cT aUc\n",
    "bUaaUb ZXZa ZXZa ZXZa adXZpa baYXXac T a ZZTUXXd a Z Z a TbZ ZUp bUaaUb XdTZpc ZXZa\n"
   ]
  },
  {
   "cell_type": "code",
   "execution_count": 58,
   "metadata": {},
   "outputs": [
    {
     "name": "stdout",
     "output_type": "stream",
     "text": [
      "{'ddxxapcuc': 1, 'cp': 5, 'xy': 2, 'xd': 1, 'ttzyayda': 4, 'xbdatbucy': 1, 'uttbyubba': 1, 'ytatyac': 1, 'ypyyd': 1, 'tzydp': 1, 'pt': 2, 'tayutzy': 1, 'bbxdu': 1, 'b': 4, 'a': 5, 'zdaz': 3, 'ztdpb': 3, 'aad': 3, 'ddypcp': 1, 'ubbp': 3, 'bc': 1, 'zabdt': 1, 'byz': 1, 'u': 1, 'yux': 1, 'yzbud': 1, 'uctt': 1, 'c': 4, 'ytcbyz': 3, 'zxyaybua': 1, 'd': 2, 'zttxcup': 1, 'ub': 1, 'yxa': 1, 'yc': 2, 'az': 1, 'dppyzzpay': 1, 'ytuat': 1, 'pabb': 1, 'uupuypu': 2, 'cctddzbt': 1, 'zdzxd': 1, 'utubaudzt': 1, 'yxyadbuct': 1, 'ycx': 1, 'p': 3, 'bcyz': 1, 'dupdtbbpt': 1, 'cctbxy': 2, 'aztpxatud': 4, 'tcaxyzd': 4, 'pyu': 1, 'datzpzc': 1, 'y': 3, 'uapapa': 2, 'ayd': 1, 'pztp': 2, 'apa': 1, 'bcaa': 1, 'uapxp': 3, 'zupc': 3, 'xdcbaxya': 1, 'axu': 1, 'cxyzcd': 1, 'bp': 1, 'ytuyzu': 1, 'ypx': 1, 'zaxzx': 1, 'cxz': 1, 'czaabtyby': 1, 'yuuu': 1, 'dccx': 1, 'py': 1, 'bcyza': 1, 'yyxt': 1, 'cpczaz': 1, 'bzbxdpd': 1, 'z': 3, 'ddbp': 1, 'tabc': 1, 'pzyta': 1, 'abaazypzz': 1, 'tbzbbubct': 2, 'cccytt': 1, 'yxpppyu': 1, 'bt': 1, 'pappy': 2, 'dtabpxbxt': 1, 'xxbycd': 1, 'ducyb': 4, 'ta': 2, 'bbp': 1, 'txaxc': 1, 'zdzcbx': 1, 'byxczdzp': 3, 'xx': 2, 'uc': 3, 'duu': 2, 'zcdd': 1, 't': 4, 'pa': 1, 'btpuxacz': 1, 'ddauaxxx': 1, 'tzb': 2, 'dtccpzyxc': 1, 'yxudbz': 1, 'azdzya': 1, 'bzuzbbyxx': 1, 'apu': 1, 'udddubxb': 1, 'xydypxpax': 1, 'ct': 1, 'auc': 1, 'buaaub': 2, 'zxza': 4, 'adxzpa': 1, 'bayxxac': 1, 'zztuxxd': 1, 'tbz': 1, 'zup': 1, 'xdtzpc': 1}\n",
      "OrderedDict([('a', 5), ('aad', 3), ('abaazypzz', 1), ('adxzpa', 1), ('apa', 1), ('apu', 1), ('auc', 1), ('axu', 1), ('ayd', 1), ('az', 1), ('azdzya', 1), ('aztpxatud', 4), ('b', 4), ('bayxxac', 1), ('bbp', 1), ('bbxdu', 1), ('bc', 1), ('bcaa', 1), ('bcyz', 1), ('bcyza', 1), ('bp', 1), ('bt', 1), ('btpuxacz', 1), ('buaaub', 2), ('byxczdzp', 3), ('byz', 1), ('bzbxdpd', 1), ('bzuzbbyxx', 1), ('c', 4), ('cccytt', 1), ('cctbxy', 2), ('cctddzbt', 1), ('cp', 5), ('cpczaz', 1), ('ct', 1), ('cxyzcd', 1), ('cxz', 1), ('czaabtyby', 1), ('d', 2), ('datzpzc', 1), ('dccx', 1), ('ddauaxxx', 1), ('ddbp', 1), ('ddxxapcuc', 1), ('ddypcp', 1), ('dppyzzpay', 1), ('dtabpxbxt', 1), ('dtccpzyxc', 1), ('ducyb', 4), ('dupdtbbpt', 1), ('duu', 2), ('p', 3), ('pa', 1), ('pabb', 1), ('pappy', 2), ('pt', 2), ('py', 1), ('pyu', 1), ('pztp', 2), ('pzyta', 1), ('t', 4), ('ta', 2), ('tabc', 1), ('tayutzy', 1), ('tbz', 1), ('tbzbbubct', 2), ('tcaxyzd', 4), ('ttzyayda', 4), ('txaxc', 1), ('tzb', 2), ('tzydp', 1), ('u', 1), ('uapapa', 2), ('uapxp', 3), ('ub', 1), ('ubbp', 3), ('uc', 3), ('uctt', 1), ('udddubxb', 1), ('uttbyubba', 1), ('utubaudzt', 1), ('uupuypu', 2), ('xbdatbucy', 1), ('xd', 1), ('xdcbaxya', 1), ('xdtzpc', 1), ('xx', 2), ('xxbycd', 1), ('xy', 2), ('xydypxpax', 1), ('y', 3), ('yc', 2), ('ycx', 1), ('ypx', 1), ('ypyyd', 1), ('ytatyac', 1), ('ytcbyz', 3), ('ytuat', 1), ('ytuyzu', 1), ('yuuu', 1), ('yux', 1), ('yxa', 1), ('yxpppyu', 1), ('yxudbz', 1), ('yxyadbuct', 1), ('yyxt', 1), ('yzbud', 1), ('z', 3), ('zabdt', 1), ('zaxzx', 1), ('zcdd', 1), ('zdaz', 3), ('zdzcbx', 1), ('zdzxd', 1), ('ztdpb', 3), ('zttxcup', 1), ('zup', 1), ('zupc', 3), ('zxyaybua', 1), ('zxza', 4), ('zztuxxd', 1)])\n",
      "a 5\n"
     ]
    }
   ],
   "source": [
    "words = dict()\n",
    "\n",
    "with open('input.txt','r') as file:\n",
    "        for line in file:\n",
    "            for word in line.lower().split():\n",
    "                if word not in words:\n",
    "                    words[word] = 1\n",
    "                else:\n",
    "                    words[word] = words[word] + 1\n",
    "                    \n",
    "print(words)\n",
    "\n",
    "import collections\n",
    "od = collections.OrderedDict(sorted(words.items()))\n",
    "print(od)\n",
    "\n",
    "maximum = max(od, key=od.get)\n",
    "print(maximum, od[maximum])"
   ]
  },
  {
   "cell_type": "markdown",
   "metadata": {},
   "source": [
    "Имеется файл с данными по успеваемости абитуриентов. Он представляет из себя набор строк, где в каждой строке записана следующая информация:\n",
    "\n",
    "Фамилия;Оценка_по_математике;Оценка_по_физике;Оценка_по_русскому_языку\n",
    "\n",
    "Поля внутри строки разделены точкой с запятой, оценки — целые числа.\n",
    "\n",
    "Напишите программу, которая считывает файл с подобной структурой и для каждого абитуриента выводит его среднюю оценку по этим трём предметам на отдельной строке, соответствующей этому абитуриенту.\n",
    "\n",
    "Также в конце файла, на отдельной строке, через пробел запишите средние баллы по математике, физике и русскому языку по всем абитуриентам:\n",
    "\n",
    "Примечание. Для разбиения строки на части по символу ';' можно использовать метод split следующим образом: \n",
    "\n",
    "print('First;Second-1 Second-2;Third'.split(';'))\n",
    "['First', 'Second-1 Second-2', 'Third']"
   ]
  },
  {
   "cell_type": "code",
   "execution_count": 9,
   "metadata": {},
   "outputs": [
    {
     "name": "stdout",
     "output_type": "stream",
     "text": [
      "69.33333333333333\n",
      "86.33333333333333\n",
      "78.33333333333333\n",
      "54.0\n",
      "72.66666666666667\n",
      "64.0\n",
      "78.0\n",
      "63.666666666666664\n",
      "58.0\n",
      "62.333333333333336\n",
      "81.0\n",
      "55.0\n",
      "57.666666666666664\n",
      "58.0\n",
      "66.66666666666667\n",
      "63.0\n",
      "57.333333333333336\n",
      "65.66666666666667\n",
      "63.666666666666664\n",
      "61.666666666666664\n",
      "68.66666666666667\n",
      "78.0\n",
      "58.0\n",
      "57.333333333333336\n",
      "67.66666666666667\n",
      "58.0\n",
      "60.333333333333336\n",
      "78.66666666666667\n",
      "49.0\n",
      "66.66666666666667\n",
      "55.333333333333336\n",
      "43.0\n",
      "55.333333333333336\n",
      "65.66666666666667\n",
      "89.33333333333333\n",
      "42.333333333333336\n",
      "57.0\n",
      "48.666666666666664\n",
      "45.666666666666664\n",
      "61.0\n",
      "45.333333333333336\n",
      "77.33333333333333\n",
      "51.333333333333336\n",
      "38.666666666666664\n",
      "43.333333333333336\n",
      "50.0\n",
      "78.33333333333333\n",
      "50.333333333333336\n",
      "39.0\n",
      "56.0\n",
      "50.0\n",
      "62.666666666666664\n",
      "63.666666666666664\n",
      "65.33333333333333\n",
      "74.0\n",
      "38.666666666666664\n",
      "70.66666666666667\n",
      "61.666666666666664\n",
      "46.0\n",
      "64.66666666666667\n",
      "61.666666666666664\n",
      "67.0\n",
      "71.66666666666667\n",
      "54.0\n",
      "67.33333333333333\n",
      "78.66666666666667\n",
      "70.33333333333333\n",
      "59.0\n",
      "56.333333333333336\n",
      "63.0\n",
      "46.0\n",
      "87.33333333333333\n",
      "75.33333333333333\n",
      "88.66666666666667\n",
      "74.0\n",
      "45.333333333333336\n",
      "51.333333333333336\n",
      "38.666666666666664\n",
      "45.666666666666664\n",
      "40.333333333333336\n",
      "49.0\n",
      "69.33333333333333\n",
      "92.66666666666667\n",
      "75.0\n",
      "56.666666666666664\n",
      "68.66666666666667\n",
      "64.33333333333333\n",
      "60.666666666666664\n",
      "67.66666666666667\n",
      "64.011235955 57.831460674 63.370786517\n"
     ]
    }
   ],
   "source": [
    "r1_all = 0\n",
    "r1_count = 0\n",
    "r2_all = 0\n",
    "r2_count = 0\n",
    "r3_all = 0\n",
    "r3_count = 0\n",
    "\n",
    "with open('input.txt','r') as file:\n",
    "        for line in file:\n",
    "            line = line.strip()\n",
    "            fio, r1, r2, r3 = line.split(';')\n",
    "            \n",
    "            r1 = round(int(r1), 9)\n",
    "            r2 = round(int(r2), 9)\n",
    "            r3 = round(int(r3), 9)\n",
    "            \n",
    "            r1_all = r1_all + r1\n",
    "            r1_count = r1_count + 1\n",
    "            r2_all = r2_all + r2\n",
    "            r2_count = r2_count + 1\n",
    "            r3_all = r3_all + r3\n",
    "            r3_count = r3_count + 1\n",
    "            \n",
    "            print ((r1 + r2 + r3)/3)\n",
    "            \n",
    "print(round((r1_all/r1_count), 9), round((r2_all/r2_count), 9), round((r3_all/r3_count), 9))"
   ]
  },
  {
   "cell_type": "code",
   "execution_count": 18,
   "metadata": {},
   "outputs": [
    {
     "name": "stdout",
     "output_type": "stream",
     "text": [
      "http://www.google.com/search?q=who+dat+boy\n",
      "b'<!doctype html><html lang=\"ru\"><head><meta charset=\"UTF-8\"><meta content=\"/images/branding/googleg/1x/googleg_standard_color_128dp.png\" itemprop=\"image\"><title>who dat boy - &#1055;&#1086;&#1080;&#1089;&#1082; &#1074; Google</title><script nonce=\"ASb8f2zn4dbWPa/tzLE/1w==\">(function(){var a=window.performance;window.start=(new Date).getTime();a:{var b=window;if(a){var c=a.timing;if(c){var d=c.navigationStart,e=c.responseStart;if(e>d&&e<=window.start){window.start=e;b.wsrt=e-d;break a}}a.now&&(b.wsrt=Math.floor(a.now()))}}window.google=window.google||{};google.aft=function(f){f.setAttribute(\"data-iml\",+new Date)};}).call(this);(function(){var c=[],e=0;window.ping=function(b){-1==b.indexOf(\"&zx\")&&(b+=\"&zx=\"+(new Date).getTime());var a=new Image,d=e++;c[d]=a;a.onerror=a.onload=a.onabort=function(){delete c[d]};a.src=b};}).call(this);</script><style>body{margin:0 auto;max-width:736px;padding:0 8px}a{color:#1967D2;text-decoration:none;tap-highlight-color:rgba(0,0,0,.1)}a:visited{color:#4B11A8}a:hover{text-decoration:underline}img{border:0}html{font-family:Roboto,HelveticaNeue,Arial,sans-serif;font-size:14px;line-height:20px;text-size-adjust:100%;color:#3C4043;word-wrap:break-word;background-color:#fff}.bRsWnc{background-color:#fff;border-top:1px solid #e0e0e0;height:39px;overflow:hidden}.N6RWV{height:51px;overflow-scrolling:touch;overflow-x:auto;overflow-y:hidden}.Uv67qb{box-pack:justify;font-size:12px;line-height:37px;justify-content:space-between;justify-content:space-between}.Uv67qb a,.Uv67qb span{color:#757575;display:block;flex:none;padding:0 16px;text-align:center;text-transform:uppercase;}span.OXXup{border-bottom:2px solid #4285f4;color:#4285f4;font-weight:bold}a.eZt8xd:visited{color:#757575}.FElbsf{border-left:1px solid rgba(0,0,0,.12)}header article{overflow:visible}.Pg70bf{height:39px;display:box;display:flex;display:flex;width:100%}.H0PQec{position:relative;flex:1}.sbc{display:flex;width:100%}.Pg70bf input{margin:2px 4px 2px 8px;}.x{width:26px;color:#757575;font:27px/38px arial, sans-serif;line-height:40px;}#qdClwb{flex:0 0 auto;width:39px;height:39px;border-bottom:0;padding:0;border-top-right-radius:8px;background-color:#3b78e7;border:1px solid #3367d6;background-image:url(data:image/gif;base64,R0lGODdhJAAjAPIHAODr/nCk+MPZ/FmV96zK+/7+/5K5+kqL9iwAAAAAJAAjAEADani63P4wykmbKcQRXDscQAEMXmmeaLQVLCukzyC09AjfeK7v/MAajACLhPMVAgwjsUcEiZa8xgAYrVqv2Kx2iwsIAAABknfBBAKrTE4IcMyot8ur8datqIbQfJdnAfo2WE6BV05wXIiJigkAOw==);}.sc{font-size:;position:absolute;top:39px;left:0;right:0;box-shadow:0px 2px 5px rgba(0,0,0,0.2);z-index:2;background-color:#fff}.sc>div{padding:10px 10px;padding-left:16px;padding-left:14px;border-top:1px solid #DFE1E5}.scs{background-color:#f5f5f5;}.noHIxc{display:block;font-size:16px;padding:0 0 0 8px;flex:1;height:35px;outline:none;border:none;width:100%;-webkit-tap-highlight-color:rgba(0,0,0,0);overflow:hidden;}.sbc input[type=text]{background:none}.sml .cOl4Id{display:none}.l{display:none}.sml header{background:none}.sml .l{display:block;padding:0 8px}.sml .l{letter-spacing:-1px;text-align:center;border-radius:2px 0 0 0;font:22px/36px Futura, Arial, sans-serif;font-smoothing:antialiased}.bz1lBb{background:#fff;border-radius:8px 8px 0 0;box-shadow:0 1px 6px rgba(32, 33, 36, 0.18);margin-top:10px}.KP7LCb{border-radius:0 0 8px 8px;box-shadow:0 2px 3px rgba(32, 33, 36, 0.18);margin-bottom:10px;overflow:hidden}.cOl4Id{letter-spacing:-1px;text-align:center;font:22pt Futura, Arial, sans-serif;padding:10px 0 5px 0;height:37px;font-smoothing:antialiased}.cOl4Id span{display:inline-block}.S591j{height:100%}.V6gwVd{color:#4285F4}.iWkuvd{color:#EA4335}.cDrQ7{color:#fbcc05}.ntlR9{color:#34A853}.tJ3Myc{-webkit-transform:rotate(-20deg);position:relative;left:-1px;display:inline-block}footer{text-align:center;margin-top:18px}footer a,footer a:visited,.smiUbb{color:#5f6368}.ksTU4c{margin:0 13px}#mCljob{margin-top:36px}#mCljob>div{margin:20px}</style></head><body jsmodel=\" \"><header id=\"hdr\"><script nonce=\"ASb8f2zn4dbWPa/tzLE/1w==\">(function(){var c=500;(function(){window.screen&&window.screen.width<=c&&window.screen.height<=c&&document.getElementById(\"hdr\").classList.add(\"sml\");}).call(this);})();</script><div class=\"cOl4Id\"><a href=\"/?sa=X&amp;ved=0ahUKEwjmkZjun4XjAhUV6KYKHdtiBqMQOwgC\"><span class=\"V6gwVd\">G</span><span class=\"iWkuvd\">o</span><span class=\"cDrQ7\">o</span><span class=\"V6gwVd\">g</span><span class=\"ntlR9\">l</span><span class=\"iWkuvd tJ3Myc\">e</span></a></div><div class=\"bz1lBb\"><form class=\"Pg70bf\" id=\"sf\"><a class=\"l\" href=\"/?output=search&amp;ie=UTF-8&amp;sa=X&amp;ved=0ahUKEwjmkZjun4XjAhUV6KYKHdtiBqMQPAgE\"><span class=\"V6gwVd\">G</span><span class=\"iWkuvd\">o</span><span class=\"cDrQ7\">o</span><span class=\"V6gwVd\">g</span><span class=\"ntlR9\">l</span><span class=\"iWkuvd tJ3Myc\">e</span></a><input name=\"ie\" value=\"ISO-8859-1\" type=\"hidden\"><div class=\"H0PQec\"><div class=\"sbc esbc\"><input class=\"noHIxc\" value=\"who dat boy\" autocapitalize=\"none\" autocomplete=\"off\" name=\"q\" spellcheck=\"false\" type=\"text\"><input name=\"oq\" type=\"hidden\"><input name=\"aqs\" type=\"hidden\"><div class=\"x\">\\xd7</div><div class=\"sc\"></div></div></div><button id=\"qdClwb\" type=\"submit\"></button></form></div><noscript><meta content=\"0;url=/search?q=who+dat+boy&amp;ie=UTF-8&amp;gbv=1&amp;sei=DmYSXebSK5XQmwXbxZmYCg\" http-equiv=\"refresh\"><style>table,div,span,p{display:none}</style><div style=\"display:block\">&#1053;&#1072;&#1078;&#1084;&#1080;&#1090;&#1077; <a href=\"/search?q=who+dat+boy&amp;ie=UTF-8&amp;gbv=1&amp;sei=DmYSXebSK5XQmwXbxZmYCg\">&#1079;&#1076;&#1077;&#1089;&#1100;</a>, &#1077;&#1089;&#1083;&#1080; &#1087;&#1077;&#1088;&#1077;&#1072;&#1076;&#1088;&#1077;&#1089;&#1072;&#1094;&#1080;&#1103; &#1085;&#1077; &#1073;&#1091;&#1076;&#1077;&#1090; &#1074;&#1099;&#1087;&#1086;&#1083;&#1085;&#1077;&#1085;&#1072; &#1074; &#1090;&#1077;&#1095;&#1077;&#1085;&#1080;&#1077; &#1085;&#1077;&#1089;&#1082;&#1086;&#1083;&#1100;&#1082;&#1080;&#1093; &#1089;&#1077;&#1082;&#1091;&#1085;&#1076;.</div></noscript></header><div id=\"main\"><div><div class=\"KP7LCb\"> <div class=\"bRsWnc\"> <div class=\"N6RWV\"> <div class=\"Pg70bf Uv67qb\"> <span class=\"OXXup\">&#1042;&#1089;&#1077;</span><a class=\"eZt8xd\" href=\"/search?q=who+dat+boy&amp;ie=UTF-8&amp;source=lnms&amp;tbm=isch&amp;sa=X&amp;ved=0ahUKEwjmkZjun4XjAhUV6KYKHdtiBqMQ_AUICCgB\">&#1050;&#1072;&#1088;&#1090;&#1080;&#1085;&#1082;&#1080;</a><a class=\"eZt8xd\" href=\"/search?q=who+dat+boy&amp;ie=UTF-8&amp;source=lnms&amp;tbm=vid&amp;sa=X&amp;ved=0ahUKEwjmkZjun4XjAhUV6KYKHdtiBqMQ_AUICSgC\">&#1042;&#1080;&#1076;&#1077;&#1086;</a><a class=\"eZt8xd\" href=\"/search?q=who+dat+boy&amp;ie=UTF-8&amp;source=lnms&amp;tbm=nws&amp;sa=X&amp;ved=0ahUKEwjmkZjun4XjAhUV6KYKHdtiBqMQ_AUICigD\">&#1053;&#1086;&#1074;&#1086;&#1089;&#1090;&#1080;</a>   <a href=\"http://maps.google.com/maps?q=who+dat+boy&amp;um=1&amp;ie=UTF-8&amp;sa=X&amp;ved=0ahUKEwjmkZjun4XjAhUV6KYKHdtiBqMQ_AUICygE\">&#1050;&#1072;&#1088;&#1090;&#1099;</a>  <a href=\"/search?q=who+dat+boy&amp;ie=UTF-8&amp;source=lnms&amp;tbm=shop&amp;sa=X&amp;ved=0ahUKEwjmkZjun4XjAhUV6KYKHdtiBqMQ_AUIDCgF\">&#1055;&#1086;&#1082;&#1091;&#1087;&#1082;&#1080;</a>  <a href=\"/search?q=who+dat+boy&amp;ie=UTF-8&amp;source=lnms&amp;tbm=bks&amp;sa=X&amp;ved=0ahUKEwjmkZjun4XjAhUV6KYKHdtiBqMQ_AUIDSgG\">&#1050;&#1085;&#1080;&#1075;&#1080;</a>     <div class=\"FElbsf\"><a href=\"/advanced_search\" style=\"white-space:nowrap\" id=\"st-toggle\" role=\"button\">&#1048;&#1085;&#1089;&#1090;&#1088;&#1091;&#1084;&#1077;&#1085;&#1090;&#1099; &#1087;&#1086;&#1080;&#1089;&#1082;&#1072;</a></div> </div> </div> </div> </div><div class=\"Pg70bf wEsjbd ZINbbc xpd O9g5cc uUPGi\" style=\"display:none\" id=\"st-card\"><style>.wEsjbd{background-color:#fff;height:44px;white-space:nowrap}.coPU8c{height:60px;overflow-scrolling:touch;overflow-x:auto;overflow-y:hidden}.Xj2aue{height:44px;overflow:hidden}.RnNGze{margin:11px 16px}.wEsjbd div,.wEsjbd a,.wEsjbd li{outline-width:0;outline:none}</style><div class=\"Xj2aue\"><div class=\"coPU8c\"><div class=\"RnNGze\"><style>.PA9J5{display:inline-block}.RXaOfd{display:inline-block;height:22px;position:relative;padding-top:0;padding-bottom:0;padding-right:16px;padding-left:0;line-height:22px;cursor:pointer;text-transform:uppercase;font-size:12px;color:#757575}.sa1toc{display:none;position:absolute;background:#fff;border:1px solid #d6d6d6;box-shadow:0 2px 4px rgba(0,0,0,0.3);margin:0;white-space:nowrap;z-index:103;line-height:17px;padding-top:5px;padding-bottom:5px;padding-left:0px}.PA9J5:hover .sa1toc{display:block}.mGSy8d a:active,.RXaOfd:active{color:#4285f4}</style><div class=\"PA9J5\"><div class=\"RXaOfd\" role=\"button\" tabindex=\"0\"><style>.TWMOUc{display:inline-block;padding-right:14px;white-space:nowrap}.vQYuGf{font-weight:bold}.OmTIzf{border-color:#909090 transparent;border-style:solid;border-width:4px 4px 0 4px;width:0;height:0;margin-left:-10px;top:50%;margin-top:-2px;position:absolute}.RXaOfd:active .OmTIzf{border-color:#4285f4 transparent}</style><div class=\"TWMOUc\">&#1053;&#1072; &#1074;&#1089;&#1077;&#1093; &#1103;&#1079;&#1099;&#1082;&#1072;&#1093;</div><span class=\"OmTIzf\"></span></div><ul class=\"sa1toc ozatM\"><style>.ozatM{font-size:12px;text-transform:uppercase}.ozatM .yNFsl,.ozatM li{list-style-type:none;list-style-position:outside;list-style-image:none}.yNFsl.SkUj4c,.yNFsl a{color:rgba(0,0,0,0.54);text-decoration:none;padding:6px 44px 6px 14px;line-height:17px;display:block}.SkUj4c{background-image:url(//ssl.gstatic.com/ui/v1/menu/checkmark2.png);background-position:right center;background-repeat:no-repeat}.SkUj4c:active{background-color:#f5f5f5}</style><li class=\"yNFsl SkUj4c\">&#1053;&#1072; &#1074;&#1089;&#1077;&#1093; &#1103;&#1079;&#1099;&#1082;&#1072;&#1093;</li><li class=\"yNFsl\"><a href=\"/search?q=who+dat+boy&amp;ie=UTF-8&amp;source=lnt&amp;tbs=lr:lang_1ru&amp;lr=lang_ru&amp;sa=X&amp;ved=0ahUKEwjmkZjun4XjAhUV6KYKHdtiBqMQpwUIDw\">&#1058;&#1086;&#1083;&#1100;&#1082;&#1086; &#1085;&#1072; &#1088;&#1091;&#1089;&#1089;&#1082;&#1080;&#1081;</a></li></ul></div><div class=\"PA9J5\"><div class=\"RXaOfd\" role=\"button\" tabindex=\"0\"><div class=\"TWMOUc\">&#1047;&#1072; &#1074;&#1089;&#1105; &#1074;&#1088;&#1077;&#1084;&#1103;</div><span class=\"OmTIzf\"></span></div><ul class=\"sa1toc ozatM\"><li class=\"yNFsl SkUj4c\">&#1047;&#1072; &#1074;&#1089;&#1105; &#1074;&#1088;&#1077;&#1084;&#1103;</li><li class=\"yNFsl\"><a href=\"/search?q=who+dat+boy&amp;ie=UTF-8&amp;source=lnt&amp;tbs=qdr:h&amp;sa=X&amp;ved=0ahUKEwjmkZjun4XjAhUV6KYKHdtiBqMQpwUIEQ\"> &#1047;&#1072; &#1095;&#1072;&#1089;</a></li><li class=\"yNFsl\"><a href=\"/search?q=who+dat+boy&amp;ie=UTF-8&amp;source=lnt&amp;tbs=qdr:d&amp;sa=X&amp;ved=0ahUKEwjmkZjun4XjAhUV6KYKHdtiBqMQpwUIEg\"> &#1047;&#1072; 24 &#1095;&#1072;&#1089;&#1072;</a></li><li class=\"yNFsl\"><a href=\"/search?q=who+dat+boy&amp;ie=UTF-8&amp;source=lnt&amp;tbs=qdr:w&amp;sa=X&amp;ved=0ahUKEwjmkZjun4XjAhUV6KYKHdtiBqMQpwUIEw\"> &#1047;&#1072; &#1085;&#1077;&#1076;&#1077;&#1083;&#1102;</a></li><li class=\"yNFsl\"><a href=\"/search?q=who+dat+boy&amp;ie=UTF-8&amp;source=lnt&amp;tbs=qdr:m&amp;sa=X&amp;ved=0ahUKEwjmkZjun4XjAhUV6KYKHdtiBqMQpwUIFA\"> &#1047;&#1072; &#1084;&#1077;&#1089;&#1103;&#1094;</a></li><li class=\"yNFsl\"><a href=\"/search?q=who+dat+boy&amp;ie=UTF-8&amp;source=lnt&amp;tbs=qdr:y&amp;sa=X&amp;ved=0ahUKEwjmkZjun4XjAhUV6KYKHdtiBqMQpwUIFQ\"> &#1047;&#1072; &#1075;&#1086;&#1076;</a></li></ul></div><div class=\"PA9J5\"><div class=\"RXaOfd\" role=\"button\" tabindex=\"0\"><div class=\"TWMOUc\">&#1042;&#1089;&#1077; &#1088;&#1077;&#1079;&#1091;&#1083;&#1100;&#1090;&#1072;&#1090;&#1099;</div><span class=\"OmTIzf\"></span></div><ul class=\"sa1toc ozatM\"><li class=\"yNFsl SkUj4c\">&#1042;&#1089;&#1077; &#1088;&#1077;&#1079;&#1091;&#1083;&#1100;&#1090;&#1072;&#1090;&#1099;</li><li class=\"yNFsl\"><a href=\"/search?q=who+dat+boy&amp;ie=UTF-8&amp;source=lnt&amp;tbs=li:1&amp;sa=X&amp;ved=0ahUKEwjmkZjun4XjAhUV6KYKHdtiBqMQpwUIFw\">&#1058;&#1086;&#1095;&#1085;&#1086;&#1077; &#1089;&#1086;&#1086;&#1090;&#1074;&#1077;&#1090;&#1089;&#1090;&#1074;&#1080;&#1077;</a></li></ul></div></div></div></div><script nonce=\"ASb8f2zn4dbWPa/tzLE/1w==\">(function(){var a=document.getElementById(\"st-toggle\"),b=document.getElementById(\"st-card\");a&&b&&a.addEventListener(\"click\",function(c){b.style.display=b.style.display?\"\":\"none\";c.preventDefault()},!1);}).call(this);</script></div></div><style>.ZINbbc{background-color:#fff;margin-bottom:10px;box-shadow:0 1px 6px rgba(32, 33, 36, 0.28);border-radius:8px}.uUPGi{font-size:14px;line-height:20px;}.O9g5cc>*:first-child{border-top-left-radius:8px;border-top-right-radius:8px}.O9g5cc>*:last-child{border-bottom-left-radius:8px;border-bottom-right-radius:8px}a.fdYsqf{color:#4B11A8}.SXn0g{overflow:hidden}.BFi9Zb{overflow:hidden;position:relative}.ncYoxe{margin:0 auto}.p1CInd{position:relative}.GGhfB{position:relative;width:100%}.V4qMPc{position:absolute;top:0;left:0;right:0;bottom:0}.UQMLtd{height:100%;width:100%;text-align:center}.zEom6{display:inline-block;height:100%;vertical-align:middle}.R0jTRc{vertical-align:middle}.EYOsld{display:inline-block;position:relative}.Xpig{width:100%;height:100%}.Y1FOVb{max-width:100%;max-height:100%}.HMoqlc{background-color:rgba(0,0,0,.12)}.qW7zYd{bottom:0;left:0;margin:auto;position:absolute;right:0;top:0}.X8r0X{background-image:url(data:image/png;base64,iVBORw0KGgoAAAANSUhEUgAAADAAAAAwCAQAAAD9CzEMAAABl0lEQVR4Ae2XveraUBiHY4xD3URx8F+9gHZW9EKEOgi9Cz8uQFtXiwRsobvgIoLXIfYCKrqoaadCk+Xp4HiSc15PQkvB512FB37xvB/Ok/8BXDqMWXMgICIi4MCaEW1cHFOZftBgxpkkTnygbi+osiTCRIhPxUbQ5wdSAnqPCQp84VF8PKmgyA4bthQlggI7bNnimQWfSYNvEvRJyzudoMpP0nKjnCxYkgWLJEFD+6ze8wsZIS/xghk6HN7wDRnTOIHLGR33F/IVCUdyqqCDHudewqhaqmAsEwijGqqCtUwgjGqlCg4ygTCqvSoIZAJhVFdVEMkEwqjCvyiwj+gt8oiy/8j/4G86QosSjZ6BKmhn2iqaqsDllFmz+x7X7Bw+ouMejYxJ/DyoZzRwflNLGpk+WTBPnskVAtJyoaRbW3qkpWtavHzS8Mm82XlssWVDXrb82ik2vJKu7x6+RTj5xw6QHjekXOjanFBlFoSCZzWnZH8EvmbKUdNzJtQER6ChXFoMWbHnSkjIlT0rBjTJyc/Y7OspkNYf1H6eRU02jH0AAAAASUVORK5CYII=);background-repeat:no-repeat;background-position:center}.SiONwe{background:rgba(32, 33, 36, 0.5);position:absolute;border-radius:4px;padding:2px 6px}.BNeawe{white-space:pre-line;word-wrap:break-word}.wyrwXc{font-size:12px;line-height:16px}.wyrwXc.HrGdeb{color:rgba(255,255,255,1)}.wyrwXc.AP7Wnd{color:#202124}.jfp3ef{padding:12px 16px 12px}.deIvCb{font-size:16px;line-height:20px;font-weight:400}.deIvCb.HrGdeb{color:rgba(255,255,255,1)}.deIvCb.AP7Wnd{color:#202124}.tAd8D{font-size:14px;line-height:20px}.tAd8D.HrGdeb{color:rgba(255,255,255,.7)}.tAd8D.AP7Wnd{color:#70757A}.Uk2dG{display:block;clear:both}.yTEhUb{margin-left:16px;float:right;}.vvjwJb{color:#1967D2;font-size:16px;line-height:20px}.vvjwJb a:visited{color:#4B11A8}.vvjwJb.HrGdeb{color:rgba(255,255,255,1)}.vvjwJb.HrGdeb a:visited{color:rgba(255,255,255,.7)}.UPmit{font-size:14px;line-height:20px}.UPmit.HrGdeb{color:rgba(255,255,255,.7)}.UPmit.AP7Wnd{color:rgba(0,102,33,1)}.NJM3tb{height:1px;background-color:#dfe1e5;margin:0 16px}.Ap5OSd{padding-bottom:12px}.s3v9rd{font-size:14px;line-height:20px}.s3v9rd.HrGdeb{color:rgba(255,255,255,1)}.s3v9rd.AP7Wnd{color:#202124}.mSx1Ee{padding-left:48px;margin:0}.v9i61e{padding-bottom:8px}.r0bn4c.tr0dw{color:rgba(255,255,255,.7)}.r0bn4c.rQMQod{color:#70757A}.XLloXe{color:#1967D2;font-size:14px;line-height:20px}.XLloXe a:visited{color:#4B11A8}.XLloXe.HrGdeb{color:rgba(255,255,255,1)}.XLloXe.HrGdeb a:visited{color:rgba(255,255,255,.7)}.JljMTb{display:block}.FCUp0c{font-weight:bold}.rVLSBd{display:table;width:100%;padding-right:16px;box-sizing:border-box}.unhOmf{display:table-cell;padding:12px 0 12px 16px}.D8KFBd{width:72px}.EOD1kd{width:30px}.g6YJwf{display:table-cell;text-align:center;vertical-align:middle;padding:12px 0 12px 8px}.G1brT{display:table;vertical-align:top}.bZaDPc{margin:0 auto 8px}.mAdjQc{text-align:right}.uEec3{font-size:12px;line-height:16px}.uEec3.HrGdeb{color:rgba(255,255,255,.7)}.uEec3.AP7Wnd{color:#70757A}.rLshyf,.BmP5tf{padding-top:12px;padding-bottom:12px}.w1C3Le,.BmP5tf,.G5NbBd{padding-left:16px;padding-right:16px;}.G5NbBd{padding-bottom:12px}.nMymef{display:flex}.G5eFlf{flex:1;display:block}.nMymef span{text-align:center}</style><div><!--SW_C_X--></div><div class=\"ZINbbc xpd O9g5cc uUPGi\"><div><a href=\"/url?q=https://www.youtube.com/watch%3Fv%3DFUXX55WqYZs&amp;sa=U&amp;ved=2ahUKEwjmkZjun4XjAhUV6KYKHdtiBqMQyCkwAHoECAoQAQ&amp;usg=AOvVaw0pGZgcoREJyza3ZqllStej\"><div class=\"SXn0g p1CInd\"><div class=\"ncYoxe\" style=\"max-width:555px\"><div class=\"GGhfB\" style=\"padding-top:74.95495495495496%\"><div class=\"V4qMPc\"><div style=\"width:100%;margin-left:0%\"><div class=\"GGhfB\" style=\"padding-top:74.95495495495496%\"><div class=\"V4qMPc\"><img class=\"EYOsld Xpig\" alt=\"\" src=\"data:image/gif;base64,R0lGODlhAQABAIAAAP///////yH5BAEKAAEALAAAAAABAAEAAAICTAEAOw==\" id=\"dimg_1\" data-deferred=\"1\"></div></div></div></div></div></div><div class=\"qW7zYd HMoqlc\"></div><div class=\"qW7zYd X8r0X\" style=\"background-size:36px\"></div><div class=\"qW7zYd\"><div class=\"SiONwe\" style=\"bottom:4px;right:4px\"><div class=\"BNeawe wyrwXc HrGdeb\">3:47</div></div></div></div><div class=\"jfp3ef\"><span><div class=\"BNeawe deIvCb AP7Wnd\">Tyler, The Creator - Who Dat Boy - YouTube</div></span><span><div class=\"BNeawe tAd8D AP7Wnd\">https://www.youtube.com/watch?v=FUXX55WqYZs</div></span></div></a></div></div><div class=\"ZINbbc xpd O9g5cc uUPGi\"><div><div class=\"jfp3ef\"><a href=\"/url?q=https://genius.com/Tyler-the-creator-who-dat-boy-lyrics&amp;sa=U&amp;ved=2ahUKEwjmkZjun4XjAhUV6KYKHdtiBqMQFjAKegQIBRAB&amp;usg=AOvVaw07PhAag4f1Iso-sakGQbQH\"><div class=\"BNeawe vvjwJb AP7Wnd\">Tyler, The Creator &#8211; Who Dat Boy Lyrics | Genius Lyrics</div><div class=\"BNeawe UPmit AP7Wnd\">https://genius.com &#8250; T &#8250; Tyler, The Creator</div></a></div><div class=\"NJM3tb\"></div><div class=\"jfp3ef\"><div><div class=\"BNeawe s3v9rd AP7Wnd\"><div><div><div class=\"BNeawe s3v9rd AP7Wnd\"><span class=\"r0bn4c rQMQod\">29 &#1080;&#1102;&#1085;. 2017 &#1075;.</span><span class=\"r0bn4c rQMQod\"> \\xb7 </span>Who Dat Boy Lyrics: Yo, who dat boy? Who him is? / Him that ni-guh, I swear / Stand out guy, him don\\'t need no chair / Well, where the fuck him\\xa0...</div></div></div></div></div></div></div></div><div class=\"ZINbbc xpd O9g5cc uUPGi\"><div><div class=\"jfp3ef\"><a href=\"/url?q=https://en.wikipedia.org/wiki/Who_Dat_Boy&amp;sa=U&amp;ved=2ahUKEwjmkZjun4XjAhUV6KYKHdtiBqMQFjALegQICRAB&amp;usg=AOvVaw04LP8X4K9L4lqCMsIdTUd_\"><div class=\"BNeawe vvjwJb AP7Wnd\">Who Dat Boy - Wikipedia</div><div class=\"BNeawe UPmit AP7Wnd\">https://en.wikipedia.org &#8250; wiki &#8250; Who_Dat_Boy</div></a></div><div class=\"NJM3tb\"></div><div class=\"jfp3ef\"><div><div class=\"BNeawe s3v9rd AP7Wnd\"><div><div><div class=\"BNeawe s3v9rd AP7Wnd\">\"Who Dat Boy\" is a song by American rapper Tyler, the Creator. It was released on June 30, 2017 alongside, \"911 / Mr. Lonely\" through Columbia Records,\\xa0...\\n\\nProducer(s): <span class=\"r0bn4c rQMQod\">Tyler, the Creator</span>\\nLength: <span class=\"r0bn4c rQMQod\">3:25</span>\\nB-side: <span class=\"r0bn4c rQMQod\">\"</span><span class=\"BNeawe\"><a href=\"/url?q=https://en.wikipedia.org/wiki/911_/_Mr._Lonely&amp;sa=U&amp;ved=2ahUKEwjmkZjun4XjAhUV6KYKHdtiBqMQs2YwC3oECAkQBg&amp;usg=AOvVaw3uELTjSay8KEUTivWDW8C9\"><span class=\"XLloXe AP7Wnd\">911 / Mr. Lonely</span></a></span><span class=\"r0bn4c rQMQod\">\"</span>\\nReleased: <span class=\"r0bn4c rQMQod\">June 30, 2017</span></div></div></div></div></div></div></div></div><div class=\"ZINbbc xpd O9g5cc uUPGi\"><div><div class=\"jfp3ef\"><a href=\"/url?q=https://music.yandex.ru/album/4506331/track/35951230&amp;sa=U&amp;ved=2ahUKEwjmkZjun4XjAhUV6KYKHdtiBqMQFjAMegQICBAB&amp;usg=AOvVaw0RZpzHc0TVN5AAixFw4_Ik\"><div class=\"BNeawe vvjwJb AP7Wnd\">Who Dat Boy &#8212; Tyler, The Creator. &#1057;&#1083;&#1091;&#1096;&#1072;&#1090;&#1100; &#1086;&#1085;&#1083;&#1072;&#1081;&#1085; &#1085;&#1072; &#1071;&#1085;&#1076;&#1077;&#1082;&#1089; ...</div><div class=\"BNeawe UPmit AP7Wnd\">https://music.yandex.ru &#8250; album &#8250; track</div></a></div><div class=\"NJM3tb\"></div><div class=\"jfp3ef\"><div><div class=\"BNeawe s3v9rd AP7Wnd\"><div><div><div class=\"BNeawe s3v9rd AP7Wnd\">Who Dat Boy &#8212; Tyler, The Creator. &#1054;&#1090;&#1082;&#1088;&#1099;&#1074;&#1072;&#1081;&#1090;&#1077; &#1085;&#1086;&#1074;&#1091;&#1102; &#1084;&#1091;&#1079;&#1099;&#1082;&#1091; &#1082;&#1072;&#1078;&#1076;&#1099;&#1081; &#1076;&#1077;&#1085;&#1100;. &#1051;&#1077;&#1085;&#1090;&#1072; &#1089; &#1087;&#1077;&#1088;&#1089;&#1086;&#1085;&#1072;&#1083;&#1100;&#1085;&#1099;&#1084;&#1080; &#1088;&#1077;&#1082;&#1086;&#1084;&#1077;&#1085;&#1076;&#1072;&#1094;&#1080;&#1103;&#1084;&#1080; &#1080; &#1084;&#1091;&#1079;&#1099;&#1082;&#1072;&#1083;&#1100;&#1085;&#1099;&#1084;&#1080; &#1085;&#1086;&#1074;&#1080;&#1085;&#1082;&#1072;&#1084;&#1080;, &#1088;&#1072;&#1076;&#1080;&#1086;\\xa0...</div></div></div></div></div></div></div></div><div class=\"ZINbbc xpd O9g5cc uUPGi\"><div><div class=\"jfp3ef\"><a href=\"/url?q=https://twitter.com/sienduk/status/1095040354053734402&amp;sa=U&amp;ved=2ahUKEwjmkZjun4XjAhUV6KYKHdtiBqMQFjANegQIBhAB&amp;usg=AOvVaw0oF_GpiwwUD9ON79wjj22j\"><div class=\"BNeawe vvjwJb AP7Wnd\">&#1044;&#1080;&#1084;&#1072; &#1057;&#1099;&#1077;&#1085;&#1076;&#1091;&#1082; on Twitter: \"WHO DAT BOY WHO HIM IS&#8230; \"</div><div class=\"BNeawe UPmit AP7Wnd\">https://twitter.com &#8250; sienduk &#8250; status</div></a></div><div class=\"NJM3tb\"></div><div class=\"jfp3ef\"><div><div class=\"BNeawe s3v9rd AP7Wnd\"><div><div><div class=\"BNeawe s3v9rd AP7Wnd\"><span class=\"r0bn4c rQMQod\">11 &#1092;&#1077;&#1074;&#1088;. 2019 &#1075;.</span><span class=\"r0bn4c rQMQod\"> \\xb7 </span>&#1059; &#1085;&#1077;&#1075;&#1086; &#1077;&#1089;&#1090;&#1100; &#1087;&#1077;&#1089;&#1085;&#1103; &#1087;&#1086;&#1076; &#1085;&#1072;&#1079;&#1074;&#1072;&#1085;&#1080;&#1077;&#1084; \"Who Dat Boy\" &#1089; A$AP Rocky &#1080; &#1074;&#1086;&#1090; &#1101;&#1090;&#1086; \"&#1061;&#1091; &#1076;&#1072;&#1090; &#1073;&#1086;&#1081; &#1093;&#1091; &#1079;&#1080;&#1084; &#1080;&#1079;\" &#1089;&#1090;&#1086;&#1095;&#1082;&#1080; &#1080;&#1079; &#1101;&#1090;&#1086;&#1081; &#1087;&#1077;&#1089;&#1085;&#1080;. 1 reply 0 retweets 1\\xa0...</div></div></div></div></div></div></div></div><div class=\"ZINbbc xpd O9g5cc uUPGi\"><div><div class=\"jfp3ef\"><a href=\"/url?q=https://soundcloud.com/wtfischee/tyler-the-creator-x-aap-rocky-who-dat-boy-chee-bootleg&amp;sa=U&amp;ved=2ahUKEwjmkZjun4XjAhUV6KYKHdtiBqMQFjAOegQIAxAB&amp;usg=AOvVaw0vSyMu-A6-sA3dHf8HroqZ\"><div class=\"BNeawe vvjwJb AP7Wnd\">TYLER THE CREATOR X A$AP ROCKY - WHO DAT BOY (CHEE ...</div><div class=\"BNeawe UPmit AP7Wnd\">https://soundcloud.com &#8250; wtfischee &#8250; tyler-the-creator-x-aap-rocky-who-da...</div></a></div><div class=\"NJM3tb\"></div><div class=\"jfp3ef\"><div><div class=\"BNeawe s3v9rd AP7Wnd\"><div><div><div class=\"BNeawe s3v9rd AP7Wnd\"><span class=\"r0bn4c rQMQod\">2 &#1072;&#1087;&#1088;. 2019 &#1075;.</span><span class=\"r0bn4c rQMQod\"> \\xb7 </span>Stream TYLER THE CREATOR X A$AP ROCKY - WHO DAT BOY (CHEE BOOTLEG) by CHEE from desktop or your mobile device.</div></div></div></div></div></div></div></div><div class=\"ZINbbc xpd O9g5cc uUPGi\"><div><div class=\"jfp3ef\"><a href=\"/url?q=https://lyricshub.ru/track/Tyler-The-Creator/Who-Dat-Boy/translation&amp;sa=U&amp;ved=2ahUKEwjmkZjun4XjAhUV6KYKHdtiBqMQFjAPegQIAhAB&amp;usg=AOvVaw0nz8assrPAQK2OBRV7eUBA\"><div class=\"BNeawe vvjwJb AP7Wnd\">Tyler, The Creator - Who Dat Boy - &#1087;&#1077;&#1088;&#1077;&#1074;&#1086;&#1076; &#1087;&#1077;&#1089;&#1085;&#1080; &#1085;&#1072; &#1088;&#1091;&#1089;&#1089;&#1082;&#1080;&#1081;</div><div class=\"BNeawe UPmit AP7Wnd\">https://lyricshub.ru &#8250; track &#8250; Tyler-The-Creator &#8250; Who-Dat-Boy &#8250; translation</div></a></div><div class=\"NJM3tb\"></div><div class=\"jfp3ef\"><div><div class=\"BNeawe s3v9rd AP7Wnd\"><div><div><div class=\"BNeawe s3v9rd AP7Wnd\">&#1055;&#1077;&#1088;&#1077;&#1074;&#1086;&#1076; &#1087;&#1077;&#1089;&#1085;&#1080; Tyler, The Creator - Who Dat Boy &#1085;&#1072; &#1088;&#1091;&#1089;&#1089;&#1082;&#1080;&#1081; &#1103;&#1079;&#1099;&#1082;.</div></div></div></div></div></div></div></div><div class=\"ZINbbc xpd O9g5cc uUPGi\"><div><div class=\"jfp3ef\"><a href=\"/url?q=http://music-one.ru/news/tyler_the_creator_who_dat_boy_ft_a_ap_rocky_perevod/2018-11-01-169&amp;sa=U&amp;ved=2ahUKEwjmkZjun4XjAhUV6KYKHdtiBqMQFjAQegQIBxAB&amp;usg=AOvVaw1IS-P-SYlL1YejWhWjDXvh\"><div class=\"BNeawe vvjwJb AP7Wnd\">Tyler, the Creator - Who Dat Boy? ft. A$AP Rocky &#1087;&#1077;&#1088;&#1077;&#1074;&#1086;&#1076; ...</div><div class=\"BNeawe UPmit AP7Wnd\">music-one.ru &#8250; news &#8250; tyler_the_creator_who_dat_boy_ft_a_ap_rocky_pe...</div></a></div><div class=\"NJM3tb\"></div><div class=\"jfp3ef\"><div><div class=\"BNeawe s3v9rd AP7Wnd\"><div><div><div class=\"BNeawe s3v9rd AP7Wnd\"><span class=\"r0bn4c rQMQod\">1 &#1085;&#1086;&#1103;&#1073;. 2018 &#1075;.</span><span class=\"r0bn4c rQMQod\"> \\xb7 </span>Who Dat Boy? / &#1050;&#1090;&#1086; &#1101;&#1090;&#1086;&#1090; &#1087;&#1072;&#1088;&#1077;&#1085;&#1100;? [&#1087;&#1077;&#1088;&#1077;&#1074;&#1086;&#1076;] .... (14) &#1054;&#1090;&#1089;&#1099;&#1083;&#1082;&#1072; &#1082; &#1087;&#1077;&#1089;&#1085;&#1077; Young Bleed &#8211; &#8220;How You Do Dat&#8221; (feat. Mater P &amp; C-Loc) (&#1087;&#1088;&#1086;&#1089;&#1090;&#1086;\\xa0...</div></div></div></div></div></div></div></div><div class=\"ZINbbc xpd O9g5cc uUPGi\"><div><div class=\"jfp3ef\"><a href=\"/url?q=http://radarmag.ru/music/videoclips/tyler-the-creator-vypustil-novyj-trek-i-klip-who-dat-boy-s-uchastiem-a-ap-rocky/&amp;sa=U&amp;ved=2ahUKEwjmkZjun4XjAhUV6KYKHdtiBqMQFjARegQIARAB&amp;usg=AOvVaw00K11Rh0Ev76c8RgyHB8WG\"><div class=\"BNeawe vvjwJb AP7Wnd\">Tyler, The Creator &#1074;&#1099;&#1087;&#1091;&#1089;&#1090;&#1080;&#1083; &#1085;&#1086;&#1074;&#1099;&#1081; &#1090;&#1088;&#1077;&#1082; &#1080; &#1082;&#1083;&#1080;&#1087; \\xabWho Dat Boy\\xbb &#1089; ...</div><div class=\"BNeawe UPmit AP7Wnd\">radarmag.ru &#8250; music &#8250; videoclips &#8250; tyler-the-creator-vypustil-novyj-trek-i-...</div></a></div><div class=\"NJM3tb\"></div><div class=\"jfp3ef\"><div><div class=\"BNeawe s3v9rd AP7Wnd\"><div><div><div class=\"BNeawe s3v9rd AP7Wnd\">Tyler, The Creator &#1074;&#1099;&#1087;&#1091;&#1089;&#1090;&#1080;&#1083;-&#1090;&#1072;&#1082;&#1080; &#1076;&#1086;&#1083;&#1075;&#1086;&#1078;&#1076;&#1072;&#1085;&#1085;&#1099;&#1081; &#1090;&#1088;&#1077;&#1082; &#1080; &#1082;&#1083;&#1080;&#1087; \\xabWho Dat Boy\\xbb &#1089; &#1091;&#1095;&#1072;&#1089;&#1090;&#1080;&#1077;&#1084; A$AP Rocky. &#1069;&#1090;&#1086; &#1077;&#1075;&#1086; &#1087;&#1077;&#1088;&#1074;&#1099;&#1077; &#1088;&#1072;&#1073;&#1086;&#1090;&#1099;, &#1089; &#1084;&#1086;&#1084;&#1077;&#1085;&#1090;&#1072; &#1074;&#1099;&#1093;&#1086;&#1076;&#1072; &#1072;&#1083;&#1100;&#1073;&#1086;&#1084;&#1072;\\xa0...</div></div></div></div></div></div></div></div><div class=\"ZINbbc xpd O9g5cc uUPGi\"><div><div class=\"jfp3ef\"><a href=\"/url?q=https://open.spotify.com/track/21yRtB6B8EMounImAfHRCP&amp;sa=U&amp;ved=2ahUKEwjmkZjun4XjAhUV6KYKHdtiBqMQFjASegQIBBAB&amp;usg=AOvVaw1kBIjmGf_Oj1iXYBz4hh9E\"><div class=\"BNeawe vvjwJb AP7Wnd\">Who Dat Boy, a song by Tyler, The Creator, A$AP Rocky on Spotify</div><div class=\"BNeawe UPmit AP7Wnd\">https://open.spotify.com &#8250; track</div></a></div><div class=\"NJM3tb\"></div><div class=\"jfp3ef\"><div><div class=\"BNeawe s3v9rd AP7Wnd\"><div><div><div class=\"BNeawe s3v9rd AP7Wnd\">We and our partners use cookies to personalize your experience, to show you ads based on your interests, and for measurement and analytics purposes.</div></div></div></div></div></div></div></div><div class=\"ZINbbc xpd O9g5cc uUPGi\"><div><div class=\"jfp3ef\"><span><div class=\"BNeawe deIvCb AP7Wnd\"><span class=\"FCUp0c rQMQod\">&#1055;&#1086;&#1093;&#1086;&#1078;&#1080;&#1077; &#1079;&#1072;&#1087;&#1088;&#1086;&#1089;&#1099;</span></div></span></div><div class=\"NJM3tb\"></div><div class=\"rVLSBd\"><a class=\"unhOmf\" href=\"/search?ie=UTF-8&amp;q=tyler+the+creator+-+who+dat+boy+%D0%BF%D0%B5%D1%80%D0%B5%D0%B2%D0%BE%D0%B4&amp;sa=X&amp;ved=2ahUKEwjmkZjun4XjAhUV6KYKHdtiBqMQ1QJ6BAgAEAE\"><div class=\"G1brT\"><div><span><div class=\"BNeawe deIvCb AP7Wnd\">tyler the creator - who dat boy &#1087;&#1077;&#1088;&#1077;&#1074;&#1086;&#1076;</div></span></div></div></a><div class=\"EOD1kd g6YJwf\"><a href=\"/search?ie=UTF-8&amp;q=tyler+the+creator+-+who+dat+boy+%D0%BF%D0%B5%D1%80%D0%B5%D0%B2%D0%BE%D0%B4\"><div class=\"BNeawe mAdjQc uEec3 AP7Wnd\">&gt;</div></a></div></div><div class=\"NJM3tb\"></div><div class=\"rVLSBd\"><a class=\"unhOmf\" href=\"/search?ie=UTF-8&amp;q=tyler+the+creator+who+dat+boy+%D1%81%D0%BA%D0%B0%D1%87%D0%B0%D1%82%D1%8C&amp;sa=X&amp;ved=2ahUKEwjmkZjun4XjAhUV6KYKHdtiBqMQ1QJ6BAgAEAI\"><div class=\"G1brT\"><div><span><div class=\"BNeawe deIvCb AP7Wnd\">tyler the creator who dat boy &#1089;&#1082;&#1072;&#1095;&#1072;&#1090;&#1100;</div></span></div></div></a><div class=\"EOD1kd g6YJwf\"><a href=\"/search?ie=UTF-8&amp;q=tyler+the+creator+who+dat+boy+%D1%81%D0%BA%D0%B0%D1%87%D0%B0%D1%82%D1%8C\"><div class=\"BNeawe mAdjQc uEec3 AP7Wnd\">&gt;</div></a></div></div><div class=\"NJM3tb\"></div><div class=\"rVLSBd\"><a class=\"unhOmf\" href=\"/search?ie=UTF-8&amp;q=who+dat+boy+%D1%81%D0%BB%D1%83%D1%88%D0%B0%D1%82%D1%8C&amp;sa=X&amp;ved=2ahUKEwjmkZjun4XjAhUV6KYKHdtiBqMQ1QJ6BAgAEAM\"><div class=\"G1brT\"><div><span><div class=\"BNeawe deIvCb AP7Wnd\">who dat boy &#1089;&#1083;&#1091;&#1096;&#1072;&#1090;&#1100;</div></span></div></div></a><div class=\"EOD1kd g6YJwf\"><a href=\"/search?ie=UTF-8&amp;q=who+dat+boy+%D1%81%D0%BB%D1%83%D1%88%D0%B0%D1%82%D1%8C\"><div class=\"BNeawe mAdjQc uEec3 AP7Wnd\">&gt;</div></a></div></div><div class=\"NJM3tb\"></div><div class=\"rVLSBd\"><a class=\"unhOmf\" href=\"/search?ie=UTF-8&amp;q=who+dat+boy+%D1%82%D0%B5%D0%BA%D1%81%D1%82+%D0%BF%D0%B5%D1%80%D0%B5%D0%B2%D0%BE%D0%B4&amp;sa=X&amp;ved=2ahUKEwjmkZjun4XjAhUV6KYKHdtiBqMQ1QJ6BAgAEAQ\"><div class=\"G1brT\"><div><span><div class=\"BNeawe deIvCb AP7Wnd\">who dat boy &#1090;&#1077;&#1082;&#1089;&#1090; &#1087;&#1077;&#1088;&#1077;&#1074;&#1086;&#1076;</div></span></div></div></a><div class=\"EOD1kd g6YJwf\"><a href=\"/search?ie=UTF-8&amp;q=who+dat+boy+%D1%82%D0%B5%D0%BA%D1%81%D1%82+%D0%BF%D0%B5%D1%80%D0%B5%D0%B2%D0%BE%D0%B4\"><div class=\"BNeawe mAdjQc uEec3 AP7Wnd\">&gt;</div></a></div></div><div class=\"NJM3tb\"></div><div class=\"rVLSBd\"><a class=\"unhOmf\" href=\"/search?ie=UTF-8&amp;q=who+dat+boy+genius&amp;sa=X&amp;ved=2ahUKEwjmkZjun4XjAhUV6KYKHdtiBqMQ1QJ6BAgAEAU\"><div class=\"G1brT\"><div><span><div class=\"BNeawe deIvCb AP7Wnd\">who dat boy genius</div></span></div></div></a><div class=\"EOD1kd g6YJwf\"><a href=\"/search?ie=UTF-8&amp;q=who+dat+boy+genius\"><div class=\"BNeawe mAdjQc uEec3 AP7Wnd\">&gt;</div></a></div></div><div class=\"NJM3tb\"></div><div class=\"rVLSBd\"><a class=\"unhOmf\" href=\"/search?ie=UTF-8&amp;q=who+dat+boy+tyler+the+creator+feat+a+ap+rocky&amp;sa=X&amp;ved=2ahUKEwjmkZjun4XjAhUV6KYKHdtiBqMQ1QJ6BAgAEAY\"><div class=\"G1brT\"><div><span><div class=\"BNeawe deIvCb AP7Wnd\">who dat boy tyler the creator feat a ap rocky</div></span></div></div></a><div class=\"EOD1kd g6YJwf\"><a href=\"/search?ie=UTF-8&amp;q=who+dat+boy+tyler+the+creator+feat+a+ap+rocky\"><div class=\"BNeawe mAdjQc uEec3 AP7Wnd\">&gt;</div></a></div></div><div class=\"NJM3tb\"></div><div class=\"rVLSBd\"><a class=\"unhOmf\" href=\"/search?ie=UTF-8&amp;q=who+dat+boy+lyrics+%D0%BF%D0%B5%D1%80%D0%B5%D0%B2%D0%BE%D0%B4&amp;sa=X&amp;ved=2ahUKEwjmkZjun4XjAhUV6KYKHdtiBqMQ1QJ6BAgAEAc\"><div class=\"G1brT\"><div><span><div class=\"BNeawe deIvCb AP7Wnd\">who dat boy lyrics &#1087;&#1077;&#1088;&#1077;&#1074;&#1086;&#1076;</div></span></div></div></a><div class=\"EOD1kd g6YJwf\"><a href=\"/search?ie=UTF-8&amp;q=who+dat+boy+lyrics+%D0%BF%D0%B5%D1%80%D0%B5%D0%B2%D0%BE%D0%B4\"><div class=\"BNeawe mAdjQc uEec3 AP7Wnd\">&gt;</div></a></div></div><div class=\"NJM3tb\"></div><div class=\"rVLSBd\"><a class=\"unhOmf\" href=\"/search?ie=UTF-8&amp;q=who+dat+boy+tyler+%D1%81%D0%BA%D0%B0%D1%87%D0%B0%D1%82%D1%8C&amp;sa=X&amp;ved=2ahUKEwjmkZjun4XjAhUV6KYKHdtiBqMQ1QJ6BAgAEAg\"><div class=\"G1brT\"><div><span><div class=\"BNeawe deIvCb AP7Wnd\">who dat boy tyler &#1089;&#1082;&#1072;&#1095;&#1072;&#1090;&#1100;</div></span></div></div></a><div class=\"EOD1kd g6YJwf\"><a href=\"/search?ie=UTF-8&amp;q=who+dat+boy+tyler+%D1%81%D0%BA%D0%B0%D1%87%D0%B0%D1%82%D1%8C\"><div class=\"BNeawe mAdjQc uEec3 AP7Wnd\">&gt;</div></a></div></div></div></div><footer> <div>  <div class=\"ZINbbc xpd O9g5cc uUPGi BmP5tf\"><div class=\"nMymef MUxGbd lyLwlc\"><a class=\"nBDE1b G5eFlf\" href=\"/search?q=who+dat+boy&amp;ie=UTF-8&amp;ei=DmYSXebSK5XQmwXbxZmYCg&amp;start=10&amp;sa=N\" aria-label=\"&#1057;&#1083;&#1077;&#1076;&#1091;&#1102;&#1097;&#1072;&#1103; &#1089;&#1090;&#1088;&#1072;&#1085;&#1080;&#1094;&#1072;\">&#1057;&#1083;&#1077;&#1076;&#1091;&#1102;&#1097;&#1072;&#1103; &gt;</a></div></div> </div>   <div id=\"mCljob\"><div><a href=\"/url?q=https://accounts.google.com/ServiceLogin%3Fcontinue%3Dhttp://www.google.com/search%253Fq%253Dwho%252Bdat%252Bboy%26hl%3Dru&amp;sa=U&amp;ved=0ahUKEwjmkZjun4XjAhUV6KYKHdtiBqMQxs8CCEI&amp;usg=AOvVaw2jGbBIK6Fa8Rvw-IJdQKs1\">&#1042;&#1086;&#1081;&#1090;&#1080;</a></div><div><a class=\"ksTU4c\" href=\"http://www.google.com/preferences?hl=ru&amp;fg=1&amp;sa=X&amp;ved=0ahUKEwjmkZjun4XjAhUV6KYKHdtiBqMQ5fUCCEM\">&#1053;&#1072;&#1089;&#1090;&#1088;&#1086;&#1081;&#1082;&#1080;</a><a class=\"ksTU4c\" href=\"//www.google.com/intl/ru_ru/policies/privacy/?fg=1\">&#1050;&#1086;&#1085;&#1092;&#1080;&#1076;&#1077;&#1085;&#1094;&#1080;&#1072;&#1083;&#1100;&#1085;&#1086;&#1089;&#1090;&#1100;</a><a class=\"ksTU4c\" href=\"//www.google.com/intl/ru_ru/policies/terms/?fg=1\">&#1059;&#1089;&#1083;&#1086;&#1074;&#1080;&#1103;</a></div></div>  </footer><script nonce=\"ASb8f2zn4dbWPa/tzLE/1w==\">(function(){var hl=\\'ru\\';(function(){var b=this||self,d=/^[\\\\w+/_-]+[=]{0,2}$/,e=null;var f=document.querySelector(\".l\"),g=document.querySelector(\"#sf\"),k=g.querySelector(\".sbc\"),l=g.querySelector(\"[type=text]\"),m=g.querySelector(\"[type=submit]\"),n=g.querySelector(\".sc\"),p=g.querySelector(\".x\"),q=l.value,r=[],t=-1,u=q,w,x,y;q||(p&&(p.style.display=\"none\"),z(!1));function z(a){if(k.classList.contains(\"esbc\")){var c=k.classList.contains(\"chsbc\"),h=k.classList.contains(\"rtlsbc\");a&&(n.style.display=\"block\",c?(g.style.borderRadius=\"20px 20px 0 0\",n.style.borderBottom=\"1px solid #DFE1E5\",m.style.borderRadius=h?\"20px 0 0 0\":\"0 20px 0 0\"):k.style.borderRadius=h?\"0 8px 0 0\":\"8px 0 0 0\");a||(n.style.display=\"none\",c?(g.style.borderRadius=\"20px\",n.style.borderBottom=\"none\",m.style.borderRadius=h?\"20px 0 0 20px\":\"0 20px 20px 0\"):k.style.borderRadius=h?\"0 8px 8px 0\":\"8px 0 0 8px\")}}function A(){g.querySelector(\"[name=oq]\").value=u;g.querySelector(\"[name=aqs]\").value=\"heirloom-srp.\"+(0<=t?t:\"\")+\".\"+(0<r.length?\"0l\"+r.length:\"\")}\\nfunction C(){w=null;if(x){var a=\"/complete/search?client=heirloom-srp&hl=\"+hl+\"&json=t&callback=hS&q=\"+encodeURIComponent(x);\"undefined\"!==typeof ds&&ds&&(a+=\"&ds=\"+ds);var c=document.createElement(\"script\");c.src=a;if(null===e)a:{a=b.document;if((a=a.querySelector&&a.querySelector(\"script[nonce]\"))&&(a=a.nonce||a.getAttribute(\"nonce\"))&&d.test(a)){e=a;break a}e=\"\"}(a=e)&&c.setAttribute(\"nonce\",a);document.body.appendChild(c);x=null;w=setTimeout(C,500)}}\\nfunction D(){for(;n.firstChild;)n.removeChild(n.firstChild);r=[];t=-1;z(!1)}function E(){var a=n.querySelector(\".scs\");a&&(a.className=\"\");0<=t?(a=n.childNodes[t],a.className=\"scs\",q=a.textContent):q=u;l.value=q}l.addEventListener(\"focus\",function(){f&&(f.style.display=\"none\")},!1);l.addEventListener(\"blur\",function(){D();f&&(f.style.display=\"\")},!1);l.addEventListener(\"keyup\",function(a){q=l.value;y=!1;13==a.which?A():27==a.which?(D(),f&&(f.style.display=\"\"),q=u,l.value=q):40==a.which?(t++,t>=r.length&&(t=-1),E()):38==a.which?(t--,-1>t&&(t=r.length-1),E()):(a=q)?(p&&(p.style.display=\"\"),x=a,w||C(),u=a):(p&&(p.style.display=\"none\"),z(!1),D(),u=\"\",y=!0)},!1);m.addEventListener(\"click\",A,!1);p.addEventListener(\"click\",function(){l.value=\"\";p.style.display=\"none\";z(!1)},!1);k.addEventListener(\"click\",function(){l.focus()},!1);window.hS=function(a){if(!y){D();0==a[1].length&&z(!1);for(var c=0;c<a[1].length;c++){var h=a[1][c][0],v=document.createElement(\"div\");v.innerHTML=h;v.addEventListener(\"mousedown\",function(B){B.preventDefault();return!1},!1);h=h.replace(/<\\\\/?b>/g,\"\");v.addEventListener(\"click\",function(B){return function(){t=B;A();E();D();g.submit()}}(c),!1);n.appendChild(v);z(!0);r.push(h)}}};}).call(this);})();(function(){function b(a){for(a=a.target||a.srcElement;a&&\"A\"!=a.nodeName;)a=a.parentElement;a&&(a.href||\"\").match(/\\\\/search.*[?&]tbm=isch/)&&(a.href+=\"&biw=\"+document.documentElement.clientWidth,a.href+=\"&bih=\"+document.documentElement.clientHeight)}document.addEventListener(\"click\",b,!1);document.addEventListener(\"touchStart\",b,!1);}).call(this);</script></div><!-- cctlcm 5 cctlcm --><textarea class=\"csi\" name=\"csi\" style=\"display:none\"></textarea><script nonce=\"ASb8f2zn4dbWPa/tzLE/1w==\">(function(){var e=\\'DmYSXebSK5XQmwXbxZmYCg\\';var sn=\\'web\\';(function(){var q=function(a){var c=window,d=document;if(!a||\"none\"==a.style.display)return 0;if(d.defaultView&&d.defaultView.getComputedStyle){var b=d.defaultView.getComputedStyle(a);if(b&&(\"hidden\"==b.visibility||\"0px\"==b.height&&\"0px\"==b.width))return 0}if(!a.getBoundingClientRect)return 1;var f=a.getBoundingClientRect();a=f.left+c.pageXOffset;b=f.top+c.pageYOffset;var k=f.width;f=f.height;return 0>=f&&0>=k?0:0>b+f?2:b>=(c.innerHeight||d.documentElement.clientHeight)?3:0>a+k||a>=(c.innerWidth||d.documentElement.clientWidth)?4:1};var r=e,v=sn;function w(a,c,d){a=\"/gen_204?atyp=csi&s=\"+(v||\"web\")+\"&t=\"+a+(\"&lite=1&ei=\"+r+\"&conn=\"+(window.navigator&&window.navigator.connection?window.navigator.connection.type:-1)+c);c=\"&rt=\";for(var b in d)a+=c+b+\".\"+d[b],c=\",\";return a}function x(a){a={prt:a};window.wsrt&&(a.wsrt=window.wsrt);return a}function y(a){window.ping?window.ping(a):(new Image).src=a}\\n(function(){for(var a=+new Date-window.start,c=x(a),d=0,b=0,f=0,k=document.getElementsByTagName(\"img\"),m=\"&imn=\"+k.length+\"&biw=\"+window.innerWidth+\"&bih=\"+window.innerHeight,A=function(h,z){h.onload=function(){b=+new Date-window.start;z&&++n==f&&(d=b,t());h.onload=null}},t=function(){m+=\"&ima=\"+f;c.aft=d;y(w(\"aft\",m,c))},n=0,B=0,g=void 0;g=k[B++];){var l=1==q(g);l&&++f;var u=g.complete&&!g.getAttribute(\"data-deferred\"),p=u&&Number(g.getAttribute(\"data-iml\"))||0;u&&p?(l&&++n,p&&(g=p-window.start,l&&(d=Math.max(d,g)),b=Math.max(b,g))):A(g,l)}d||(d=a);b||(b=d);n==f&&t();window.addEventListener(\"load\",function(){window.setTimeout(function(){c.ol=+new Date-window.start;c.iml=b;var h=window.performance&&window.performance.timing;h&&(c.rqst=h.responseEnd-h.requestStart,c.rspt=h.responseEnd-h.responseStart);y(w(\"all\",m,c))},0)},!1)})();}).call(this);})();</script><script nonce=\"ASb8f2zn4dbWPa/tzLE/1w==\">function _setImagesSrc(e,c){function f(a){a.onerror=function(){a.style.display=\"none\"};a.src=c}for(var g=0,b=void 0;b=e[g++];){var d=document.getElementById(b);d?f(d):(window.google=window.google||{},google.iir=google.iir||{},google.iir[b]=c)}};(function(){var s=\\'data:image/jpeg;base64,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\\\\x3d\\';var i=[\\'dimg_1\\'];_setImagesSrc(i,s);})();(function(){var e=\\'DmYSXebSK5XQmwXbxZmYCg\\';(function(){var a=e,b=window.performance&&window.performance.navigation;b&&2==b.type&&window.ping(\"/gen_204?ct=backbutton&ei=\"+a);}).call(this);})();(function(){(function(){google.csct={};google.csct.ps=\\'AOvVaw3RTrw-VHqaSOmRQuZUNelo\\\\x26ust\\\\x3d1561573262749081\\';})();})();(function(){(function(){google.csct.rd=true;})();})();google.drty&&google.drty();</script></body></html>'\n"
     ]
    }
   ],
   "source": [
    "import requests\n",
    "url = \"http://google.com/search\"\n",
    "par = {'q' : \"who dat boy\"}\n",
    "r = requests.get(url,params = par)\n",
    "\n",
    "print(r.url)\n",
    "print(r.content)"
   ]
  },
  {
   "cell_type": "markdown",
   "metadata": {},
   "source": [
    "Скачайте файл. В нём указан адрес другого файла, который нужно скачать с использованием модуля requests и посчитать число строк в нём.\n",
    "\n",
    "Используйте функцию get для получения файла (имеет смысл вызвать метод strip к передаваемому параметру, чтобы убрать пробельные символы по краям).\n",
    "\n",
    "После получения файла вы можете проверить результат, обратившись к полю text. Если результат работы скрипта не принимается, проверьте поле url на правильность. Для подсчёта количества строк разбейте текст с помощью метода splitlines.\n",
    "\n",
    "В поле ответа введите одно число или отправьте файл, содержащий одно число."
   ]
  },
  {
   "cell_type": "code",
   "execution_count": 25,
   "metadata": {},
   "outputs": [
    {
     "name": "stdout",
     "output_type": "stream",
     "text": [
      "https://stepic.org/media/attachments/course67/3.6.2/324.txt\n",
      "54\n"
     ]
    }
   ],
   "source": [
    "import requests\n",
    "# https://stepic.org/media/attachments/course67/3.6.2/324.txt\n",
    "\n",
    "url = input()\n",
    "\n",
    "r = requests.get(url)\n",
    "print(len(r.text.splitlines()))"
   ]
  },
  {
   "cell_type": "markdown",
   "metadata": {},
   "source": [
    "Имеется набор файлов, каждый из которых, кроме последнего, содержит имя следующего файла.\n",
    "Первое слово в тексте последнего файла: \"We\".\n",
    "\n",
    "Скачайте предложенный файл. В нём содержится ссылка на первый файл из этого набора.\n",
    "\n",
    "Все файлы располагаются в каталоге по адресу:\n",
    "https://stepic.org/media/attachments/course67/3.6.3/\n",
    "\n",
    "Загрузите содержимое ﻿последнего файла из набора, как ответ на это задание."
   ]
  },
  {
   "cell_type": "code",
   "execution_count": 35,
   "metadata": {},
   "outputs": [
    {
     "name": "stdout",
     "output_type": "stream",
     "text": [
      "https://stepic.org/media/attachments/course67/3.6.3/699991.txt\n",
      "We are the champions, my friends,\n",
      "And we'll keep on fighting 'til the end.\n",
      "We are the champions.\n",
      "We are the champions.\n",
      "No time for losers\n",
      "'Cause we are the champions of the world.\n"
     ]
    }
   ],
   "source": [
    "import requests\n",
    "\n",
    "def get_url (file):\n",
    "    return str(\"https://stepic.org/media/attachments/course67/3.6.3/\" + file)\n",
    "\n",
    "# https://stepic.org/media/attachments/course67/3.6.3/699991.txt\n",
    "\n",
    "url = input()\n",
    "\n",
    "r = requests.get(url)\n",
    "\n",
    "while \"We\" not in r.text.splitlines()[0][:2]:\n",
    "    new_url = get_url(r.text.splitlines()[0])\n",
    "    r = requests.get(new_url)\n",
    "    \n",
    "print(r.text)"
   ]
  },
  {
   "cell_type": "code",
   "execution_count": null,
   "metadata": {},
   "outputs": [],
   "source": [
    "# С форума\n",
    "import requests\n",
    "url, name = 'https://stepic.org/media/attachments/course67/3.6.3/', '699991.txt'\n",
    "while name[:2] != 'We':\n",
    "    name = requests.get(url + name).text\n",
    "print(name)"
   ]
  },
  {
   "cell_type": "markdown",
   "metadata": {},
   "source": [
    "Напишите программу, которая принимает на стандартный вход список игр футбольных команд с результатом матча и выводит на стандартный вывод сводную таблицу результатов всех матчей.\n",
    "\n",
    "За победу команде начисляется 3 очка, за поражение — 0, за ничью — 1.\n",
    "\n",
    "Формат ввода следующий:\n",
    "В первой строке указано целое число n — количество завершенных игр.\n",
    "После этого идет n строк, в которых записаны результаты игры в следующем формате:\n",
    "Первая_команда;Забито_первой_командой;Вторая_команда;Забито_второй_командой\n",
    "\n",
    "Вывод программы необходимо оформить следующим образом:\n",
    "Команда:Всего_игр Побед Ничьих Поражений Всего_очков\n",
    "\n",
    "Конкретный пример ввода-вывода приведён ниже.\n",
    "\n",
    "Порядок вывода команд произвольный."
   ]
  },
  {
   "cell_type": "code",
   "execution_count": 7,
   "metadata": {},
   "outputs": [
    {
     "name": "stdout",
     "output_type": "stream",
     "text": [
      "2\n",
      "sokol;3;holod;4\n",
      "hui;2;sokol;5\n",
      "sokol:2 1 0 1 3 \n",
      "holod:1 1 0 0 3 \n",
      "hui:1 0 0 1 0 \n"
     ]
    }
   ],
   "source": [
    "def get_list(dict, team):\n",
    "    list = [0, 0, 0, 0, 0]\n",
    "    if team in commands.keys():\n",
    "        list = dict[team]\n",
    "    return list\n",
    "        \n",
    "def update_list(list, score_self, score_opponent):\n",
    "    list[0] = list[0] + 1\n",
    "    if score_self > score_opponent:\n",
    "        list[1] = list[1] + 1\n",
    "        points = 3\n",
    "    elif score_self == score_opponent:\n",
    "        list[2] = list[2] + 1\n",
    "        points = 1\n",
    "    else:\n",
    "        list[3] = list[3] + 1\n",
    "        points = 0\n",
    "    list[4] = list[4] + points\n",
    "\n",
    "x = int(input())\n",
    "\n",
    "list = [0, 0, 0, 0, 0]\n",
    "commands = dict()\n",
    "\n",
    "for i in range(x):\n",
    "    str = input()\n",
    "    first_team, first_goals, second_team, second_goals = str.split(';')\n",
    "    \n",
    "    list = get_list(commands, first_team)\n",
    "    update_list(list, first_goals, second_goals)\n",
    "    commands[first_team] = list\n",
    "    \n",
    "    list = get_list(commands, second_team)\n",
    "    update_list(list, second_goals, first_goals)\n",
    "    commands[second_team] = list\n",
    "        \n",
    "for key, values in commands.items():\n",
    "    print(key, end=\":\")\n",
    "    for i in values:\n",
    "        print(i, end=\" \")\n",
    "    print()"
   ]
  },
  {
   "cell_type": "markdown",
   "metadata": {},
   "source": [
    "В какой-то момент в Институте биоинформатики биологи перестали понимать, что говорят информатики: они говорили каким-то странным набором звуков.\n",
    "\n",
    "В какой-то момент один из биологов раскрыл секрет информатиков: они использовали при общении подстановочный шифр, т.е. заменяли каждый символ исходного сообщения на соответствующий ему другой символ. Биологи раздобыли ключ к шифру и теперь нуждаются в помощи:\n",
    "\n",
    "Напишите программу, которая умеет шифровать и расшифровывать шифр подстановки. Программа принимает на вход две строки одинаковой длины, на первой строке записаны символы исходного алфавита, на второй строке — символы конечного алфавита, после чего идёт строка, которую нужно зашифровать переданным ключом, и ещё одна строка, которую нужно расшифровать.\n",
    "\n",
    "Пусть, например, на вход программе передано:\n",
    "abcd\n",
    "*d%#\n",
    "abacabadaba\n",
    "#*%*d*%\n",
    "\n",
    "Это значит, что символ a исходного сообщения заменяется на символ * в шифре, b заменяется на d, c — на % и d — на #.\n",
    "Нужно зашифровать строку abacabadaba и расшифровать строку #*%*d*% с помощью этого шифра. Получаем следующие строки, которые и передаём на вывод программы:\n",
    "*d*%*d*#*d*\n",
    "dacabac"
   ]
  },
  {
   "cell_type": "code",
   "execution_count": 1,
   "metadata": {},
   "outputs": [
    {
     "name": "stdout",
     "output_type": "stream",
     "text": [
      "asdf\n"
     ]
    },
    {
     "ename": "NameError",
     "evalue": "name 'asdf' is not defined",
     "output_type": "error",
     "traceback": [
      "\u001b[0;31m---------------------------------------------------------------------------\u001b[0m",
      "\u001b[0;31mNameError\u001b[0m                                 Traceback (most recent call last)",
      "\u001b[0;32m<ipython-input-1-4dfe78bf20b5>\u001b[0m in \u001b[0;36m<module>\u001b[0;34m()\u001b[0m\n\u001b[1;32m      5\u001b[0m \u001b[0;34m\u001b[0m\u001b[0m\n\u001b[1;32m      6\u001b[0m \u001b[0;34m\u001b[0m\u001b[0m\n\u001b[0;32m----> 7\u001b[0;31m \u001b[0mbase\u001b[0m \u001b[0;34m=\u001b[0m \u001b[0minput\u001b[0m\u001b[0;34m(\u001b[0m\u001b[0;34m)\u001b[0m\u001b[0;34m\u001b[0m\u001b[0;34m\u001b[0m\u001b[0m\n\u001b[0m\u001b[1;32m      8\u001b[0m \u001b[0mnew\u001b[0m \u001b[0;34m=\u001b[0m \u001b[0minput\u001b[0m\u001b[0;34m(\u001b[0m\u001b[0;34m)\u001b[0m\u001b[0;34m\u001b[0m\u001b[0;34m\u001b[0m\u001b[0m\n\u001b[1;32m      9\u001b[0m \u001b[0malphabet\u001b[0m \u001b[0;34m=\u001b[0m \u001b[0mdict\u001b[0m\u001b[0;34m(\u001b[0m\u001b[0;34m)\u001b[0m\u001b[0;34m\u001b[0m\u001b[0;34m\u001b[0m\u001b[0m\n",
      "\u001b[0;32m/usr/local/lib/python2.7/dist-packages/ipykernel/ipkernel.pyc\u001b[0m in \u001b[0;36m<lambda>\u001b[0;34m(prompt)\u001b[0m\n\u001b[1;32m    174\u001b[0m             \u001b[0mself\u001b[0m\u001b[0;34m.\u001b[0m\u001b[0m_sys_eval_input\u001b[0m \u001b[0;34m=\u001b[0m \u001b[0mbuiltin_mod\u001b[0m\u001b[0;34m.\u001b[0m\u001b[0minput\u001b[0m\u001b[0;34m\u001b[0m\u001b[0;34m\u001b[0m\u001b[0m\n\u001b[1;32m    175\u001b[0m             \u001b[0mbuiltin_mod\u001b[0m\u001b[0;34m.\u001b[0m\u001b[0mraw_input\u001b[0m \u001b[0;34m=\u001b[0m \u001b[0mself\u001b[0m\u001b[0;34m.\u001b[0m\u001b[0mraw_input\u001b[0m\u001b[0;34m\u001b[0m\u001b[0;34m\u001b[0m\u001b[0m\n\u001b[0;32m--> 176\u001b[0;31m             \u001b[0mbuiltin_mod\u001b[0m\u001b[0;34m.\u001b[0m\u001b[0minput\u001b[0m \u001b[0;34m=\u001b[0m \u001b[0;32mlambda\u001b[0m \u001b[0mprompt\u001b[0m\u001b[0;34m=\u001b[0m\u001b[0;34m''\u001b[0m\u001b[0;34m:\u001b[0m \u001b[0meval\u001b[0m\u001b[0;34m(\u001b[0m\u001b[0mself\u001b[0m\u001b[0;34m.\u001b[0m\u001b[0mraw_input\u001b[0m\u001b[0;34m(\u001b[0m\u001b[0mprompt\u001b[0m\u001b[0;34m)\u001b[0m\u001b[0;34m)\u001b[0m\u001b[0;34m\u001b[0m\u001b[0;34m\u001b[0m\u001b[0m\n\u001b[0m\u001b[1;32m    177\u001b[0m         \u001b[0mself\u001b[0m\u001b[0;34m.\u001b[0m\u001b[0m_save_getpass\u001b[0m \u001b[0;34m=\u001b[0m \u001b[0mgetpass\u001b[0m\u001b[0;34m.\u001b[0m\u001b[0mgetpass\u001b[0m\u001b[0;34m\u001b[0m\u001b[0;34m\u001b[0m\u001b[0m\n\u001b[1;32m    178\u001b[0m         \u001b[0mgetpass\u001b[0m\u001b[0;34m.\u001b[0m\u001b[0mgetpass\u001b[0m \u001b[0;34m=\u001b[0m \u001b[0mself\u001b[0m\u001b[0;34m.\u001b[0m\u001b[0mgetpass\u001b[0m\u001b[0;34m\u001b[0m\u001b[0;34m\u001b[0m\u001b[0m\n",
      "\u001b[0;32m/usr/local/lib/python2.7/dist-packages/ipykernel/ipkernel.pyc\u001b[0m in \u001b[0;36m<module>\u001b[0;34m()\u001b[0m\n",
      "\u001b[0;31mNameError\u001b[0m: name 'asdf' is not defined"
     ]
    }
   ],
   "source": [
    "def get_key(alphabet, find_value):\n",
    "    for key, value in alphabet.items():\n",
    "        if value == find_value:\n",
    "            return key\n",
    "\n",
    "\n",
    "base = input()\n",
    "new = input()\n",
    "alphabet = dict()\n",
    "\n",
    "for i in range(len(base)):\n",
    "    alphabet[base[i]] = new[i]\n",
    "\n",
    "encode_str = ''.join([alphabet[char] for char in input()])\n",
    "decode_str = ''.join([get_key(alphabet, char) for char in input()])\n",
    "\n",
    "print(encode_str)\n",
    "print(decode_str)"
   ]
  },
  {
   "cell_type": "markdown",
   "metadata": {},
   "source": [
    "С stepik решение:"
   ]
  },
  {
   "cell_type": "code",
   "execution_count": 2,
   "metadata": {},
   "outputs": [
    {
     "name": "stdout",
     "output_type": "stream",
     "text": [
      "qwer\n"
     ]
    },
    {
     "ename": "NameError",
     "evalue": "name 'qwer' is not defined",
     "output_type": "error",
     "traceback": [
      "\u001b[0;31m---------------------------------------------------------------------------\u001b[0m",
      "\u001b[0;31mNameError\u001b[0m                                 Traceback (most recent call last)",
      "\u001b[0;32m<ipython-input-2-de3f802f95c5>\u001b[0m in \u001b[0;36m<module>\u001b[0;34m()\u001b[0m\n\u001b[0;32m----> 1\u001b[0;31m \u001b[0ma\u001b[0m\u001b[0;34m,\u001b[0m\u001b[0mb\u001b[0m\u001b[0;34m,\u001b[0m\u001b[0mc\u001b[0m\u001b[0;34m,\u001b[0m\u001b[0md\u001b[0m\u001b[0;34m=\u001b[0m\u001b[0minput\u001b[0m\u001b[0;34m(\u001b[0m\u001b[0;34m)\u001b[0m\u001b[0;34m,\u001b[0m\u001b[0minput\u001b[0m\u001b[0;34m(\u001b[0m\u001b[0;34m)\u001b[0m\u001b[0;34m,\u001b[0m\u001b[0minput\u001b[0m\u001b[0;34m(\u001b[0m\u001b[0;34m)\u001b[0m\u001b[0;34m,\u001b[0m\u001b[0minput\u001b[0m\u001b[0;34m(\u001b[0m\u001b[0;34m)\u001b[0m\u001b[0;34m\u001b[0m\u001b[0;34m\u001b[0m\u001b[0m\n\u001b[0m\u001b[1;32m      2\u001b[0m \u001b[0;32mprint\u001b[0m\u001b[0;34m(\u001b[0m\u001b[0;34m''\u001b[0m\u001b[0;34m.\u001b[0m\u001b[0mjoin\u001b[0m\u001b[0;34m(\u001b[0m\u001b[0mb\u001b[0m\u001b[0;34m[\u001b[0m\u001b[0ma\u001b[0m\u001b[0;34m.\u001b[0m\u001b[0mindex\u001b[0m\u001b[0;34m(\u001b[0m\u001b[0mi\u001b[0m\u001b[0;34m)\u001b[0m\u001b[0;34m]\u001b[0m \u001b[0;32mfor\u001b[0m \u001b[0mi\u001b[0m \u001b[0;32min\u001b[0m \u001b[0mc\u001b[0m\u001b[0;34m)\u001b[0m\u001b[0;34m)\u001b[0m\u001b[0;34m\u001b[0m\u001b[0;34m\u001b[0m\u001b[0m\n\u001b[1;32m      3\u001b[0m \u001b[0;32mprint\u001b[0m\u001b[0;34m(\u001b[0m\u001b[0;34m''\u001b[0m\u001b[0;34m.\u001b[0m\u001b[0mjoin\u001b[0m\u001b[0;34m(\u001b[0m\u001b[0ma\u001b[0m\u001b[0;34m[\u001b[0m\u001b[0mb\u001b[0m\u001b[0;34m.\u001b[0m\u001b[0mindex\u001b[0m\u001b[0;34m(\u001b[0m\u001b[0mi\u001b[0m\u001b[0;34m)\u001b[0m\u001b[0;34m]\u001b[0m \u001b[0;32mfor\u001b[0m \u001b[0mi\u001b[0m \u001b[0;32min\u001b[0m \u001b[0md\u001b[0m\u001b[0;34m)\u001b[0m\u001b[0;34m)\u001b[0m\u001b[0;34m\u001b[0m\u001b[0;34m\u001b[0m\u001b[0m\n",
      "\u001b[0;32m/usr/local/lib/python2.7/dist-packages/ipykernel/ipkernel.pyc\u001b[0m in \u001b[0;36m<lambda>\u001b[0;34m(prompt)\u001b[0m\n\u001b[1;32m    174\u001b[0m             \u001b[0mself\u001b[0m\u001b[0;34m.\u001b[0m\u001b[0m_sys_eval_input\u001b[0m \u001b[0;34m=\u001b[0m \u001b[0mbuiltin_mod\u001b[0m\u001b[0;34m.\u001b[0m\u001b[0minput\u001b[0m\u001b[0;34m\u001b[0m\u001b[0;34m\u001b[0m\u001b[0m\n\u001b[1;32m    175\u001b[0m             \u001b[0mbuiltin_mod\u001b[0m\u001b[0;34m.\u001b[0m\u001b[0mraw_input\u001b[0m \u001b[0;34m=\u001b[0m \u001b[0mself\u001b[0m\u001b[0;34m.\u001b[0m\u001b[0mraw_input\u001b[0m\u001b[0;34m\u001b[0m\u001b[0;34m\u001b[0m\u001b[0m\n\u001b[0;32m--> 176\u001b[0;31m             \u001b[0mbuiltin_mod\u001b[0m\u001b[0;34m.\u001b[0m\u001b[0minput\u001b[0m \u001b[0;34m=\u001b[0m \u001b[0;32mlambda\u001b[0m \u001b[0mprompt\u001b[0m\u001b[0;34m=\u001b[0m\u001b[0;34m''\u001b[0m\u001b[0;34m:\u001b[0m \u001b[0meval\u001b[0m\u001b[0;34m(\u001b[0m\u001b[0mself\u001b[0m\u001b[0;34m.\u001b[0m\u001b[0mraw_input\u001b[0m\u001b[0;34m(\u001b[0m\u001b[0mprompt\u001b[0m\u001b[0;34m)\u001b[0m\u001b[0;34m)\u001b[0m\u001b[0;34m\u001b[0m\u001b[0;34m\u001b[0m\u001b[0m\n\u001b[0m\u001b[1;32m    177\u001b[0m         \u001b[0mself\u001b[0m\u001b[0;34m.\u001b[0m\u001b[0m_save_getpass\u001b[0m \u001b[0;34m=\u001b[0m \u001b[0mgetpass\u001b[0m\u001b[0;34m.\u001b[0m\u001b[0mgetpass\u001b[0m\u001b[0;34m\u001b[0m\u001b[0;34m\u001b[0m\u001b[0m\n\u001b[1;32m    178\u001b[0m         \u001b[0mgetpass\u001b[0m\u001b[0;34m.\u001b[0m\u001b[0mgetpass\u001b[0m \u001b[0;34m=\u001b[0m \u001b[0mself\u001b[0m\u001b[0;34m.\u001b[0m\u001b[0mgetpass\u001b[0m\u001b[0;34m\u001b[0m\u001b[0;34m\u001b[0m\u001b[0m\n",
      "\u001b[0;32m/usr/local/lib/python2.7/dist-packages/ipykernel/ipkernel.pyc\u001b[0m in \u001b[0;36m<module>\u001b[0;34m()\u001b[0m\n",
      "\u001b[0;31mNameError\u001b[0m: name 'qwer' is not defined"
     ]
    }
   ],
   "source": [
    "a,b,c,d=input(),input(),input(),input()\n",
    "print(''.join(b[a.index(i)] for i in c))\n",
    "print(''.join(a[b.index(i)] for i in d))"
   ]
  },
  {
   "cell_type": "markdown",
   "metadata": {},
   "source": [
    "Простейшая система проверки орфографии основана на использовании списка известных слов. Каждое слово в проверяемом тексте ищется в этом списке и, если такое слово не найдено, оно помечается, как ошибочное.\n",
    "\n",
    "Напишем подобную систему.\n",
    "\n",
    "Через стандартный ввод подаётся следующая структура: первой строкой — количество d записей в списке известных слов, после передаётся  d строк с одним словарным словом на строку, затем — количество l строк текста, после чего — l строк текста.\n",
    "\n",
    "Напишите программу, которая выводит слова из текста, которые не встречаются в словаре. Регистр слов не учитывается. Порядок вывода слов произвольный. Слова, не встречающиеся в словаре, не должны повторяться в выводе программы."
   ]
  },
  {
   "cell_type": "code",
   "execution_count": 1,
   "metadata": {},
   "outputs": [
    {
     "ename": "KeyboardInterrupt",
     "evalue": "",
     "output_type": "error",
     "traceback": [
      "\u001b[0;31m---------------------------------------------------------------------------\u001b[0m",
      "\u001b[0;31mKeyboardInterrupt\u001b[0m                         Traceback (most recent call last)",
      "\u001b[0;32m~/anaconda3/lib/python3.7/site-packages/ipykernel/kernelbase.py\u001b[0m in \u001b[0;36m_input_request\u001b[0;34m(self, prompt, ident, parent, password)\u001b[0m\n\u001b[1;32m    884\u001b[0m             \u001b[0;32mtry\u001b[0m\u001b[0;34m:\u001b[0m\u001b[0;34m\u001b[0m\u001b[0;34m\u001b[0m\u001b[0m\n\u001b[0;32m--> 885\u001b[0;31m                 \u001b[0mident\u001b[0m\u001b[0;34m,\u001b[0m \u001b[0mreply\u001b[0m \u001b[0;34m=\u001b[0m \u001b[0mself\u001b[0m\u001b[0;34m.\u001b[0m\u001b[0msession\u001b[0m\u001b[0;34m.\u001b[0m\u001b[0mrecv\u001b[0m\u001b[0;34m(\u001b[0m\u001b[0mself\u001b[0m\u001b[0;34m.\u001b[0m\u001b[0mstdin_socket\u001b[0m\u001b[0;34m,\u001b[0m \u001b[0;36m0\u001b[0m\u001b[0;34m)\u001b[0m\u001b[0;34m\u001b[0m\u001b[0;34m\u001b[0m\u001b[0m\n\u001b[0m\u001b[1;32m    886\u001b[0m             \u001b[0;32mexcept\u001b[0m \u001b[0mException\u001b[0m\u001b[0;34m:\u001b[0m\u001b[0;34m\u001b[0m\u001b[0;34m\u001b[0m\u001b[0m\n",
      "\u001b[0;32m~/anaconda3/lib/python3.7/site-packages/jupyter_client/session.py\u001b[0m in \u001b[0;36mrecv\u001b[0;34m(self, socket, mode, content, copy)\u001b[0m\n\u001b[1;32m    802\u001b[0m         \u001b[0;32mtry\u001b[0m\u001b[0;34m:\u001b[0m\u001b[0;34m\u001b[0m\u001b[0;34m\u001b[0m\u001b[0m\n\u001b[0;32m--> 803\u001b[0;31m             \u001b[0mmsg_list\u001b[0m \u001b[0;34m=\u001b[0m \u001b[0msocket\u001b[0m\u001b[0;34m.\u001b[0m\u001b[0mrecv_multipart\u001b[0m\u001b[0;34m(\u001b[0m\u001b[0mmode\u001b[0m\u001b[0;34m,\u001b[0m \u001b[0mcopy\u001b[0m\u001b[0;34m=\u001b[0m\u001b[0mcopy\u001b[0m\u001b[0;34m)\u001b[0m\u001b[0;34m\u001b[0m\u001b[0;34m\u001b[0m\u001b[0m\n\u001b[0m\u001b[1;32m    804\u001b[0m         \u001b[0;32mexcept\u001b[0m \u001b[0mzmq\u001b[0m\u001b[0;34m.\u001b[0m\u001b[0mZMQError\u001b[0m \u001b[0;32mas\u001b[0m \u001b[0me\u001b[0m\u001b[0;34m:\u001b[0m\u001b[0;34m\u001b[0m\u001b[0;34m\u001b[0m\u001b[0m\n",
      "\u001b[0;32m~/anaconda3/lib/python3.7/site-packages/zmq/sugar/socket.py\u001b[0m in \u001b[0;36mrecv_multipart\u001b[0;34m(self, flags, copy, track)\u001b[0m\n\u001b[1;32m    474\u001b[0m         \"\"\"\n\u001b[0;32m--> 475\u001b[0;31m         \u001b[0mparts\u001b[0m \u001b[0;34m=\u001b[0m \u001b[0;34m[\u001b[0m\u001b[0mself\u001b[0m\u001b[0;34m.\u001b[0m\u001b[0mrecv\u001b[0m\u001b[0;34m(\u001b[0m\u001b[0mflags\u001b[0m\u001b[0;34m,\u001b[0m \u001b[0mcopy\u001b[0m\u001b[0;34m=\u001b[0m\u001b[0mcopy\u001b[0m\u001b[0;34m,\u001b[0m \u001b[0mtrack\u001b[0m\u001b[0;34m=\u001b[0m\u001b[0mtrack\u001b[0m\u001b[0;34m)\u001b[0m\u001b[0;34m]\u001b[0m\u001b[0;34m\u001b[0m\u001b[0;34m\u001b[0m\u001b[0m\n\u001b[0m\u001b[1;32m    476\u001b[0m         \u001b[0;31m# have first part already, only loop while more to receive\u001b[0m\u001b[0;34m\u001b[0m\u001b[0;34m\u001b[0m\u001b[0;34m\u001b[0m\u001b[0m\n",
      "\u001b[0;32mzmq/backend/cython/socket.pyx\u001b[0m in \u001b[0;36mzmq.backend.cython.socket.Socket.recv\u001b[0;34m()\u001b[0m\n",
      "\u001b[0;32mzmq/backend/cython/socket.pyx\u001b[0m in \u001b[0;36mzmq.backend.cython.socket.Socket.recv\u001b[0;34m()\u001b[0m\n",
      "\u001b[0;32mzmq/backend/cython/socket.pyx\u001b[0m in \u001b[0;36mzmq.backend.cython.socket._recv_copy\u001b[0;34m()\u001b[0m\n",
      "\u001b[0;32m~/anaconda3/lib/python3.7/site-packages/zmq/backend/cython/checkrc.pxd\u001b[0m in \u001b[0;36mzmq.backend.cython.checkrc._check_rc\u001b[0;34m()\u001b[0m\n",
      "\u001b[0;31mKeyboardInterrupt\u001b[0m: ",
      "\nDuring handling of the above exception, another exception occurred:\n",
      "\u001b[0;31mKeyboardInterrupt\u001b[0m                         Traceback (most recent call last)",
      "\u001b[0;32m<ipython-input-1-fcc35d1e9c70>\u001b[0m in \u001b[0;36m<module>\u001b[0;34m\u001b[0m\n\u001b[0;32m----> 1\u001b[0;31m \u001b[0md\u001b[0m \u001b[0;34m=\u001b[0m \u001b[0mint\u001b[0m\u001b[0;34m(\u001b[0m\u001b[0minput\u001b[0m\u001b[0;34m(\u001b[0m\u001b[0;34m)\u001b[0m\u001b[0;34m)\u001b[0m\u001b[0;34m\u001b[0m\u001b[0;34m\u001b[0m\u001b[0m\n\u001b[0m\u001b[1;32m      2\u001b[0m \u001b[0;34m\u001b[0m\u001b[0m\n\u001b[1;32m      3\u001b[0m \u001b[0mmy_dict\u001b[0m \u001b[0;34m=\u001b[0m \u001b[0;34m[\u001b[0m\u001b[0;34m]\u001b[0m\u001b[0;34m\u001b[0m\u001b[0;34m\u001b[0m\u001b[0m\n\u001b[1;32m      4\u001b[0m \u001b[0;34m\u001b[0m\u001b[0m\n\u001b[1;32m      5\u001b[0m \u001b[0;32mfor\u001b[0m \u001b[0mi\u001b[0m \u001b[0;32min\u001b[0m \u001b[0mrange\u001b[0m\u001b[0;34m(\u001b[0m\u001b[0md\u001b[0m\u001b[0;34m)\u001b[0m\u001b[0;34m:\u001b[0m\u001b[0;34m\u001b[0m\u001b[0;34m\u001b[0m\u001b[0m\n",
      "\u001b[0;32m~/anaconda3/lib/python3.7/site-packages/ipykernel/kernelbase.py\u001b[0m in \u001b[0;36mraw_input\u001b[0;34m(self, prompt)\u001b[0m\n\u001b[1;32m    858\u001b[0m             \u001b[0mself\u001b[0m\u001b[0;34m.\u001b[0m\u001b[0m_parent_ident\u001b[0m\u001b[0;34m,\u001b[0m\u001b[0;34m\u001b[0m\u001b[0;34m\u001b[0m\u001b[0m\n\u001b[1;32m    859\u001b[0m             \u001b[0mself\u001b[0m\u001b[0;34m.\u001b[0m\u001b[0m_parent_header\u001b[0m\u001b[0;34m,\u001b[0m\u001b[0;34m\u001b[0m\u001b[0;34m\u001b[0m\u001b[0m\n\u001b[0;32m--> 860\u001b[0;31m             \u001b[0mpassword\u001b[0m\u001b[0;34m=\u001b[0m\u001b[0;32mFalse\u001b[0m\u001b[0;34m,\u001b[0m\u001b[0;34m\u001b[0m\u001b[0;34m\u001b[0m\u001b[0m\n\u001b[0m\u001b[1;32m    861\u001b[0m         )\n\u001b[1;32m    862\u001b[0m \u001b[0;34m\u001b[0m\u001b[0m\n",
      "\u001b[0;32m~/anaconda3/lib/python3.7/site-packages/ipykernel/kernelbase.py\u001b[0m in \u001b[0;36m_input_request\u001b[0;34m(self, prompt, ident, parent, password)\u001b[0m\n\u001b[1;32m    888\u001b[0m             \u001b[0;32mexcept\u001b[0m \u001b[0mKeyboardInterrupt\u001b[0m\u001b[0;34m:\u001b[0m\u001b[0;34m\u001b[0m\u001b[0;34m\u001b[0m\u001b[0m\n\u001b[1;32m    889\u001b[0m                 \u001b[0;31m# re-raise KeyboardInterrupt, to truncate traceback\u001b[0m\u001b[0;34m\u001b[0m\u001b[0;34m\u001b[0m\u001b[0;34m\u001b[0m\u001b[0m\n\u001b[0;32m--> 890\u001b[0;31m                 \u001b[0;32mraise\u001b[0m \u001b[0mKeyboardInterrupt\u001b[0m\u001b[0;34m\u001b[0m\u001b[0;34m\u001b[0m\u001b[0m\n\u001b[0m\u001b[1;32m    891\u001b[0m             \u001b[0;32melse\u001b[0m\u001b[0;34m:\u001b[0m\u001b[0;34m\u001b[0m\u001b[0;34m\u001b[0m\u001b[0m\n\u001b[1;32m    892\u001b[0m                 \u001b[0;32mbreak\u001b[0m\u001b[0;34m\u001b[0m\u001b[0;34m\u001b[0m\u001b[0m\n",
      "\u001b[0;31mKeyboardInterrupt\u001b[0m: "
     ]
    }
   ],
   "source": [
    "d = int(input())\n",
    "\n",
    "my_dict = []\n",
    "\n",
    "for i in range(d):\n",
    "    my_dict.append(input().lower())\n",
    "\n",
    "l = int(input())\n",
    "\n",
    "result = set()\n",
    "\n",
    "for l in range(l):\n",
    "    str = input().lower()\n",
    "    for word in str.split(\" \"):\n",
    "        if word in my_dict:\n",
    "            continue\n",
    "        result.add(word)\n",
    "\n",
    "for word in result:\n",
    "    print(word)"
   ]
  },
  {
   "cell_type": "markdown",
   "metadata": {},
   "source": [
    "Группа биологов в институте биоинформатики завела себе черепашку.\n",
    "\n",
    "После дрессировки черепашка научилась понимать и запоминать указания биологов следующего вида:\n",
    "север 10\n",
    "запад 20\n",
    "юг 30\n",
    "восток 40\n",
    "где первое слово — это направление, в котором должна двигаться черепашка, а число после слова — это положительное расстояние в сантиметрах, которое должна пройти черепашка.\n",
    "\n",
    "Но команды даются быстро, а черепашка ползёт медленно, и программисты догадались, что можно написать программу, которая определит, куда в итоге биологи приведут черепашку. Для этого программисты просят вас написать программу, которая выведет точку, в которой окажется черепашка после всех команд. Для простоты они решили считать, что движение начинается в точке (0, 0), и движение на восток увеличивает первую координату, а на север — вторую.\n",
    "\n",
    "Программе подаётся на вход число команд n, которые нужно выполнить черепашке, после чего n строк с самими командами. Вывести нужно два числа в одну строку: первую и вторую координату конечной точки черепашки. Все координаты целочисленные."
   ]
  },
  {
   "cell_type": "code",
   "execution_count": null,
   "metadata": {},
   "outputs": [],
   "source": [
    "n = int(input())\n",
    "\n",
    "x = 0\n",
    "y = 0\n",
    "\n",
    "for i in range(n):\n",
    "    str, dist = input().lower().split(\" \")\n",
    "    dist = int(dist)\n",
    "    if str == \"север\":\n",
    "        y = y + dist\n",
    "    elif str == \"юг\":\n",
    "        y = y - dist\n",
    "    elif str == \"восток\":\n",
    "        x = x + dist\n",
    "    else:\n",
    "        x = x - dist\n",
    "\n",
    "print(x, y)"
   ]
  },
  {
   "cell_type": "markdown",
   "metadata": {},
   "source": [
    "С форума топ:"
   ]
  },
  {
   "cell_type": "code",
   "execution_count": null,
   "metadata": {},
   "outputs": [],
   "source": [
    "dict = {'север': 0, 'юг': 0, 'запад': 0, 'восток': 0}\n",
    "\n",
    "for _ in range(int(input())):\n",
    "    key, value = input().split()\n",
    "    dict[key] += int(value)\n",
    "\n",
    "print(dict['восток'] - dict['запад'], dict['север'] - dict['юг'])"
   ]
  },
  {
   "cell_type": "code",
   "execution_count": 27,
   "metadata": {
    "scrolled": true
   },
   "outputs": [
    {
     "name": "stdout",
     "output_type": "stream",
     "text": [
      "1 121.2\n",
      "2 129.3\n",
      "3 134.0\n",
      "4 139.6\n",
      "5 146.0\n",
      "6 157.0\n",
      "7 158.0\n",
      "8 164.4\n",
      "9 170.0\n",
      "10 166.0\n",
      "11 175.0\n"
     ]
    }
   ],
   "source": [
    "aver = dict()\n",
    "data = [0, float(0)]  # count height\n",
    "\n",
    "for i in range(1, 12, 1):\n",
    "    aver[i] = data\n",
    "\n",
    "with open('dataset_3380_5.txt', 'r') as file:\n",
    "    for line in file:\n",
    "        line = line.strip()\n",
    "        class_num, fio, height = line.split(\"\\t\")\n",
    "        aver[int(class_num)] = [aver[int(class_num)]\n",
    "                                [0] + 1, aver[int(class_num)][1] + int(height)]\n",
    "\n",
    "for i in range(1, 12, 1):\n",
    "    if aver[i][0] != 0:\n",
    "        print(i, round(aver[i][1] / aver[i][0],1))\n",
    "    else:\n",
    "        print(i, \"-\")\n"
   ]
  },
  {
   "cell_type": "markdown",
   "metadata": {},
   "source": [
    "#### Numpy"
   ]
  },
  {
   "cell_type": "code",
   "execution_count": 39,
   "metadata": {},
   "outputs": [
    {
     "name": "stdout",
     "output_type": "stream",
     "text": [
      "[2.  3.  4.2]\n"
     ]
    },
    {
     "data": {
      "text/plain": [
       "array([2. , 3. , 4.2])"
      ]
     },
     "execution_count": 39,
     "metadata": {},
     "output_type": "execute_result"
    }
   ],
   "source": [
    "from numpy import *\n",
    "a = array([2,3,4.2])\n",
    "print(a)\n",
    "a"
   ]
  },
  {
   "cell_type": "code",
   "execution_count": 40,
   "metadata": {},
   "outputs": [
    {
     "data": {
      "text/plain": [
       "1"
      ]
     },
     "execution_count": 40,
     "metadata": {},
     "output_type": "execute_result"
    }
   ],
   "source": [
    "a.ndim"
   ]
  },
  {
   "cell_type": "code",
   "execution_count": 42,
   "metadata": {},
   "outputs": [
    {
     "data": {
      "text/plain": [
       "(3,)"
      ]
     },
     "execution_count": 42,
     "metadata": {},
     "output_type": "execute_result"
    }
   ],
   "source": [
    "a.shape"
   ]
  },
  {
   "cell_type": "code",
   "execution_count": 47,
   "metadata": {},
   "outputs": [
    {
     "name": "stdout",
     "output_type": "stream",
     "text": [
      "[[1 2 3]\n",
      " [2 3 5]]\n"
     ]
    }
   ],
   "source": [
    "b = array([(1,2,3),(2,3,5)])\n",
    "print(b)"
   ]
  },
  {
   "cell_type": "code",
   "execution_count": 48,
   "metadata": {},
   "outputs": [
    {
     "data": {
      "text/plain": [
       "array([[1, 2, 3],\n",
       "       [2, 3, 5]])"
      ]
     },
     "execution_count": 48,
     "metadata": {},
     "output_type": "execute_result"
    }
   ],
   "source": [
    "b"
   ]
  },
  {
   "cell_type": "code",
   "execution_count": 49,
   "metadata": {},
   "outputs": [
    {
     "data": {
      "text/plain": [
       "2"
      ]
     },
     "execution_count": 49,
     "metadata": {},
     "output_type": "execute_result"
    }
   ],
   "source": [
    "b.ndim"
   ]
  },
  {
   "cell_type": "code",
   "execution_count": 50,
   "metadata": {},
   "outputs": [
    {
     "data": {
      "text/plain": [
       "(2, 3)"
      ]
     },
     "execution_count": 50,
     "metadata": {},
     "output_type": "execute_result"
    }
   ],
   "source": [
    "b.shape"
   ]
  },
  {
   "cell_type": "code",
   "execution_count": 51,
   "metadata": {},
   "outputs": [
    {
     "data": {
      "text/plain": [
       "6"
      ]
     },
     "execution_count": 51,
     "metadata": {},
     "output_type": "execute_result"
    }
   ],
   "source": [
    "b.size"
   ]
  },
  {
   "cell_type": "code",
   "execution_count": 54,
   "metadata": {},
   "outputs": [
    {
     "data": {
      "text/plain": [
       "array([[[0., 0., 0.],\n",
       "        [0., 0., 0.]],\n",
       "\n",
       "       [[0., 0., 0.],\n",
       "        [0., 0., 0.]],\n",
       "\n",
       "       [[0., 0., 0.],\n",
       "        [0., 0., 0.]]])"
      ]
     },
     "execution_count": 54,
     "metadata": {},
     "output_type": "execute_result"
    }
   ],
   "source": [
    "z = zeros((3,2,3))\n",
    "z"
   ]
  },
  {
   "cell_type": "markdown",
   "metadata": {},
   "source": [
    "### Matplotlib"
   ]
  },
  {
   "cell_type": "code",
   "execution_count": 19,
   "metadata": {},
   "outputs": [],
   "source": [
    "from matplotlib.pyplot import *\n",
    "%matplotlib inline"
   ]
  },
  {
   "cell_type": "code",
   "execution_count": 18,
   "metadata": {},
   "outputs": [],
   "source": [
    "x = [i for i in range(11)]\n",
    "y = [i**2 for i in x]"
   ]
  },
  {
   "cell_type": "code",
   "execution_count": 17,
   "metadata": {},
   "outputs": [
    {
     "data": {
      "text/plain": [
       "Text(0.5, 1.0, 'Рисуем график')"
      ]
     },
     "execution_count": 17,
     "metadata": {},
     "output_type": "execute_result"
    },
    {
     "data": {
      "image/png": "[encoded data removed]",
      "text/plain": [
       "<Figure size 432x288 with 1 Axes>"
      ]
     },
     "metadata": {
      "needs_background": "light"
     },
     "output_type": "display_data"
    }
   ],
   "source": [
    "figure()\n",
    "plot(x,y,'r')\n",
    "xlabel('x')\n",
    "ylabel('y')\n",
    "title(\"Рисуем график\")\n",
    "show()"
   ]
  },
  {
   "cell_type": "code",
   "execution_count": 29,
   "metadata": {},
   "outputs": [
    {
     "data": {
      "text/plain": [
       "Text(0.5, 1.0, 'second plot')"
      ]
     },
     "execution_count": 29,
     "metadata": {},
     "output_type": "execute_result"
    },
    {
     "data": {
      "image/png": "[encoded data removed]",
      "text/plain": [
       "<Figure size 432x288 with 2 Axes>"
      ]
     },
     "metadata": {
      "needs_background": "light"
     },
     "output_type": "display_data"
    }
   ],
   "source": [
    "fig = figure()\n",
    "axes1 = fig.add_axes([0.1,0.1,0.8,0.8])\n",
    "\n",
    "axes1.plot(x,y,'r-')\n",
    "axes1.set_xlabel('xik')\n",
    "axes1.set_ylabel('ygrik')\n",
    "axes1.set_title('first plot')\n",
    "\n",
    "axes2 = fig.add_axes([0.2,0.4,0.3,0.3])\n",
    "\n",
    "axes2.plot(x,x,'b--')\n",
    "axes2.set_xlabel('xik2')\n",
    "axes2.set_ylabel('ygik2')\n",
    "axes2.set_title('second plot')\n"
   ]
  },
  {
   "cell_type": "code",
   "execution_count": 31,
   "metadata": {},
   "outputs": [
    {
     "data": {
      "image/png": "[encoded data removed]",
      "text/plain": [
       "<Figure size 432x288 with 2 Axes>"
      ]
     },
     "metadata": {
      "needs_background": "light"
     },
     "output_type": "display_data"
    }
   ],
   "source": [
    "fig, axes = subplots(nrows=1, ncols=2)\n",
    "\n",
    "for ax in axes:\n",
    "    ax.plot(x, y, 'r')\n",
    "    ax.set_xlabel('x')\n",
    "    ax.set_ylabel('y')\n",
    "    ax.set_title('title')\n",
    "    \n",
    "fig.tight_layout()"
   ]
  },
  {
   "cell_type": "code",
   "execution_count": null,
   "metadata": {},
   "outputs": [],
   "source": []
  }
 ],
 "metadata": {
  "kernelspec": {
   "display_name": "Python 3",
   "language": "python",
   "name": "python3"
  },
  "language_info": {
   "codemirror_mode": {
    "name": "ipython",
    "version": 3
   },
   "file_extension": ".py",
   "mimetype": "text/x-python",
   "name": "python",
   "nbconvert_exporter": "python",
   "pygments_lexer": "ipython3",
   "version": "3.7.3"
  }
 },
 "nbformat": 4,
 "nbformat_minor": 2
}
